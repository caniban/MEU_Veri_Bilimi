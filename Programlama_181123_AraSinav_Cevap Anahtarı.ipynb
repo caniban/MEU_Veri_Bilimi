{
 "cells": [
  {
   "cell_type": "markdown",
   "id": "0b583346",
   "metadata": {},
   "source": [
    "## T.C. Mersin Üniversitesi\n",
    "## Mühendislik Fakültesi\n",
    "### Harita Mühendisliği Bölümü\n",
    "\n",
    "**Programlama Dersi - 18.11.2023 tarihli Ara Sınavıdır.**\n",
    "\n",
    "*Sınav süresi 75 dakikadır.*\n",
    "\n",
    "*Cevaplarınızı içeren `ipynb` dosyasını sınav süresi tamamlanmadan önce [caniban@mersin.edu.tr](mailto:caniban@mersin.edu.tr) adresine e-posta olarak gönderiniz.*\n",
    "\n",
    "Başarılar dilerim.\n",
    "\n",
    "*Doç. Dr. M. Can İban*\n"
   ]
  },
  {
   "cell_type": "markdown",
   "id": "b497ff12",
   "metadata": {},
   "source": [
    "#### Soru 1: Kullanıcıdan a ve b değişken isimleri ile iki adet input integer alınız. Bu iki inputun toplamını, farkını, çarpımını ve bölümünü hesaplayan bir program yazınız. Sonuçları f-string print ile ekrana veriniz. (10p)"
   ]
  },
  {
   "cell_type": "code",
   "execution_count": 1,
   "id": "fc0e08d9",
   "metadata": {},
   "outputs": [
    {
     "name": "stdout",
     "output_type": "stream",
     "text": [
      "İlk sayıyı giriniz:12\n",
      "İkinci sayıyı giriniz:2\n",
      "12 ve 2 sayılarının toplamı: 14\n",
      "12 sayısından 2 sayısı çıkarıldığında sonuç: 10\n",
      "12 ve 2 sayılarının çarpımı: 24\n",
      "12 sayısı ile 2 sayısının bölümü: 6.0\n"
     ]
    }
   ],
   "source": [
    "a = int(input(\"İlk sayıyı giriniz:\"))\n",
    "b = int(input(\"İkinci sayıyı giriniz:\"))\n",
    "toplam = a+b\n",
    "cikarma = a-b\n",
    "carpma = a*b\n",
    "bolme = a/b\n",
    "print(f\"{a} ve {b} sayılarının toplamı: {toplam}\")\n",
    "print(f\"{a} sayısından {b} sayısı çıkarıldığında sonuç: {cikarma}\")\n",
    "print(f\"{a} ve {b} sayılarının çarpımı: {carpma}\")\n",
    "print(f\"{a} sayısı ile {b} sayısının bölümü: {bolme}\")\n"
   ]
  },
  {
   "cell_type": "markdown",
   "id": "67f86e52",
   "metadata": {},
   "source": [
    "#### Soru 2: Kullanıcıdan bir ondalık sayı girişi alın. Bu sayının pozitif, negatif veya sıfır olduğunu kontrol eden bir program yazın. Program sonucu ekrana yazdırsın. (10p)"
   ]
  },
  {
   "cell_type": "code",
   "execution_count": 2,
   "id": "d56ea1be",
   "metadata": {},
   "outputs": [
    {
     "name": "stdout",
     "output_type": "stream",
     "text": [
      "Bir sayı girin: 32\n",
      "Girilen sayı pozitif.\n"
     ]
    }
   ],
   "source": [
    "sayi = float(input(\"Bir sayı girin: \"))\n",
    "\n",
    "if sayi > 0:\n",
    "    print(\"Girilen sayı pozitif.\")\n",
    "elif sayi < 0:\n",
    "    print(\"Girilen sayı negatif.\")\n",
    "else:\n",
    "    print(\"Girilen sayı sıfır.\")"
   ]
  },
  {
   "cell_type": "markdown",
   "id": "73f7bd8d",
   "metadata": {},
   "source": [
    "#### Soru 3: Sevdiğiniz kitaplardan ve yazarlarından oluşan bir liste oluşturun. Bu liste, her bir kitabın adını ve yazarını içeren alt listelerden oluşsun. Ardından, ilk üç kitabı içeren bir dilim oluşturun ve ekrana verin. (10p)"
   ]
  },
  {
   "cell_type": "code",
   "execution_count": 3,
   "id": "6225c02e",
   "metadata": {},
   "outputs": [
    {
     "name": "stdout",
     "output_type": "stream",
     "text": [
      "[['Python Cookbook', 'David Beazley'], ['Fluent Python', 'Luciano Ramalho'], ['Clean Code', 'Robert C. Martin']]\n"
     ]
    }
   ],
   "source": [
    "# Kitap listesi\n",
    "kitaplar = [[\"Python Cookbook\", \"David Beazley\"],\n",
    "            [\"Fluent Python\", \"Luciano Ramalho\"],\n",
    "            [\"Clean Code\", \"Robert C. Martin\"],\n",
    "            [\"The Pragmatic Programmer\", \"Andrew Hunt\"]]\n",
    "\n",
    "# İlk üç kitabı içeren dilim\n",
    "ilk_uc_kitaplar = kitaplar[:3]\n",
    "\n",
    "# Sonucu ekrana yazdırma\n",
    "print(ilk_uc_kitaplar)"
   ]
  },
  {
   "cell_type": "markdown",
   "id": "b5178316",
   "metadata": {},
   "source": [
    "#### Soru 4: Kullanıcıdan alınan bir cümleyi kelimelerine ayıran bir program yazın. Bu program, bir cümleyi bir liste halinde saklamalı ve ardından kullanıcıdan bir kelime girmesini istemelidir. Program, bu kelimenin cümlede kaç kez geçtiğini bulmalıdır. (10p)"
   ]
  },
  {
   "cell_type": "code",
   "execution_count": 4,
   "id": "79482078",
   "metadata": {},
   "outputs": [
    {
     "name": "stdout",
     "output_type": "stream",
     "text": [
      "Bir cümle girin: Sharing Cities Sweden was a national program to help establish Sweden as a country that actively and critically works with the sharing economy in cities.\n",
      "Aranacak kelimeyi girin: Sweden\n",
      "'Sweden' kelimesi cümlede 2 kez geçiyor.\n"
     ]
    }
   ],
   "source": [
    "# Kullanıcıdan bir cümle alalım\n",
    "cumle = input(\"Bir cümle girin: \")\n",
    "\n",
    "# Cümleyi kelimelere ayıralım\n",
    "kelimeler = cumle.split()\n",
    "\n",
    "# Kullanıcıdan bir kelime alalım\n",
    "aranan_kelime = input(\"Aranacak kelimeyi girin: \")\n",
    "\n",
    "# Kelimenin cümlede kaç kez geçtiğini bulalım\n",
    "gecis_sayisi = kelimeler.count(aranan_kelime)\n",
    "\n",
    "# Sonucu ekrana yazdırma\n",
    "print(f\"'{aranan_kelime}' kelimesi cümlede {gecis_sayisi} kez geçiyor.\")"
   ]
  },
  {
   "cell_type": "markdown",
   "id": "73a23d6c",
   "metadata": {},
   "source": [
    "#### Soru 5: (15p)\n",
    "Bir ders sınıfı için aşağıdaki adımları içeren bir program yazın:\n",
    "\n",
    "a) \"notlar\" adında bir liste oluşturun ve sırasıyla öğrencilerin aldığı notları içersin (örneğin: [78, 92, 65, 89, 81]).\n",
    "\n",
    "b) Bu listenin ortalamasını hesaplayın ve ortalamayı ekrana yazdırın.\n",
    "\n",
    "c) Ardından, bu listenin içindeki her notu 5 puan arttırarak yeni notları içeren bir liste oluşturun (FOR DÖNGÜSÜ ya da LIST COMPREHENSION kullanılacak, manuel değil). Yeni notları içeren listeyi ekrana yazdırın."
   ]
  },
  {
   "cell_type": "code",
   "execution_count": 5,
   "id": "be2046e0",
   "metadata": {},
   "outputs": [
    {
     "name": "stdout",
     "output_type": "stream",
     "text": [
      "Notların ortalaması: 81.0\n",
      "Yeni notlar: [83, 97, 70, 94, 86]\n"
     ]
    }
   ],
   "source": [
    "notlar = [78, 92, 65, 89, 81]\n",
    "\n",
    "ortalama = sum(notlar) / len(notlar)\n",
    "print(\"Notların ortalaması:\", ortalama)\n",
    "\n",
    "yeni_notlar = [ogr_not + 5 for ogr_not in notlar]\n",
    "print(\"Yeni notlar:\", yeni_notlar)\n",
    "\n"
   ]
  },
  {
   "cell_type": "markdown",
   "id": "af5e0040",
   "metadata": {},
   "source": [
    "#### Soru 6: Bir şirketin aylık gelir ve giderlerini içeren iki adet ayrı NumPy dizisi olduğunu düşünün. Aylık kârı, toplam kârı, ortalama kârı hesaplayan bir Python programı yazın. (15 p)"
   ]
  },
  {
   "cell_type": "code",
   "execution_count": 6,
   "id": "e88b2189",
   "metadata": {},
   "outputs": [
    {
     "name": "stdout",
     "output_type": "stream",
     "text": [
      "Aylık Gelir: [10000 12000 15000 18000 20000]\n",
      "Aylık Gider: [ 5000  6000  8000 10000 12000]\n",
      "Aylık Kar: [5000 6000 7000 8000 8000]\n",
      "Toplam Kar: 34000\n",
      "Ortalama Kar: 6800.0\n"
     ]
    }
   ],
   "source": [
    "import numpy as np\n",
    "\n",
    "# Aylık gelir ve gider dizileri\n",
    "gelir = np.array([10000, 12000, 15000, 18000, 20000])\n",
    "gider = np.array([5000, 6000, 8000, 10000, 12000])\n",
    "\n",
    "# Aylık kar hesaplama\n",
    "kar = gelir - gider\n",
    "\n",
    "# Aylık kar sonuçları\n",
    "print(\"Aylık Gelir:\", gelir)\n",
    "print(\"Aylık Gider:\", gider)\n",
    "print(\"Aylık Kar:\", kar)\n",
    "\n",
    "# Toplam kar sonuçları\n",
    "\n",
    "toplam_kar = np.sum(kar)\n",
    "print(\"Toplam Kar:\", toplam_kar)\n",
    "\n",
    "#Ortalama kar sonuçları\n",
    "\n",
    "ortalama_kar = np.mean(kar)\n",
    "print(\"Ortalama Kar:\", ortalama_kar)\n"
   ]
  },
  {
   "cell_type": "markdown",
   "id": "44fdea0c",
   "metadata": {},
   "source": [
    "#### Soru 7: Verilen liste [1, 2, 3, 4, 5] için, bu listenin elemanlarının karelerinden oluşan yeni bir liste oluşturan bir list comprehension ifadesi yazın. (10p)"
   ]
  },
  {
   "cell_type": "code",
   "execution_count": 7,
   "id": "86e09264",
   "metadata": {},
   "outputs": [
    {
     "name": "stdout",
     "output_type": "stream",
     "text": [
      "[1, 4, 9, 16, 25]\n"
     ]
    }
   ],
   "source": [
    "kareler = [x**2 for x in [1, 2, 3, 4, 5]]\n",
    "print(kareler)"
   ]
  },
  {
   "cell_type": "markdown",
   "id": "3a011b8b",
   "metadata": {},
   "source": [
    "#### Soru 8 (20 p): \n",
    "\n",
    "olculer = [12.5, 8.7, 15.2, 10.8, 9.5]\n",
    "\n",
    "Bu listedeki ölçüleri kullanarak aşağıdaki tabloda belirtilen koşulları denetleyen bir program yazınız. \n",
    "\n",
    "\n",
    "| Koşul                                                 | Durum       |\n",
    "|--------------------------------------------------------|-------------|\n",
    "| Ortalama 10'dan Büyük ve Standart Sapma 5'ten Küçük    | Riskli      |\n",
    "| Ortalama 10'dan Küçük ve Standart Sapma 5'ten Büyük    | Risksiz     |\n",
    "| Ortalama 10'dan Büyük veya Standart Sapma 5'ten Küçük. | Orta Riskli |\n",
    "| Hiçbiri                                                | Belirsiz    |"
   ]
  },
  {
   "cell_type": "code",
   "execution_count": 8,
   "id": "b8d0fec9",
   "metadata": {},
   "outputs": [
    {
     "name": "stdout",
     "output_type": "stream",
     "text": [
      "Riskli\n"
     ]
    }
   ],
   "source": [
    "import numpy as np\n",
    "\n",
    "olculer = [12.5, 8.7, 15.2, 10.8, 9.5]\n",
    "\n",
    "# Numpy kullanarak sayılar üzerinde bazı hesaplamalar yapılır\n",
    "ortalama = np.mean(olculer)\n",
    "standart_sapma = np.std(olculer)\n",
    "\n",
    "# Karmaşık bir if-else döngüsü ile hesaplamalara göre kontrol\n",
    "if ortalama > 10 and standart_sapma < 5:\n",
    "    print(\"Riskli\")\n",
    "elif ortalama <= 10 and standart_sapma >= 5:\n",
    "    print(\"Risksiz\")\n",
    "elif ortalama > 10 or standart_sapma < 5:\n",
    "    print(\"Orta Riskli\")\n",
    "else:\n",
    "    print(\"Belirsiz\")\n"
   ]
  }
 ],
 "metadata": {
  "kernelspec": {
   "display_name": "Python 3",
   "language": "python",
   "name": "python3"
  },
  "language_info": {
   "codemirror_mode": {
    "name": "ipython",
    "version": 3
   },
   "file_extension": ".py",
   "mimetype": "text/x-python",
   "name": "python",
   "nbconvert_exporter": "python",
   "pygments_lexer": "ipython3",
   "version": "3.8.8"
  }
 },
 "nbformat": 4,
 "nbformat_minor": 5
}
