{
 "cells": [
  {
   "cell_type": "markdown",
   "id": "52fd4efb",
   "metadata": {},
   "source": [
    "## T.C. Mersin Üniversitesi\n",
    "## Mühendislik Fakültesi\n",
    "### Harita Mühendisliği Bölümü\n",
    "\n",
    "**Programlama Dersi - 18.11.2023 tarihli Ara Sınavıdır.**\n",
    "\n",
    "*Sınav süresi 75 dakikadır.*\n",
    "\n",
    "*Cevaplarınızı içeren `ipynb` dosyasını sınav süresi tamamlanmadan önce [caniban@mersin.edu.tr](mailto:caniban@mersin.edu.tr) adresine e-posta olarak gönderiniz.*\n",
    "\n",
    "Başarılar dilerim.\n",
    "\n",
    "*Doç. Dr. M. Can İban*\n"
   ]
  },
  {
   "cell_type": "markdown",
   "id": "86fcf5f8",
   "metadata": {},
   "source": [
    "#### Soru 1: Kullanıcıdan a ve b değişken isimleri ile iki adet input integer alınız. Bu iki inputun toplamını, farkını, çarpımını ve bölümünü hesaplayan bir program yazınız. Sonuçları f-string print ile ekrana veriniz. (10p)"
   ]
  },
  {
   "cell_type": "code",
   "execution_count": null,
   "id": "531ecf55",
   "metadata": {},
   "outputs": [],
   "source": []
  },
  {
   "cell_type": "markdown",
   "id": "d1cb9fe1",
   "metadata": {},
   "source": [
    "#### Soru 2: Kullanıcıdan bir ondalık sayı girişi alın. Bu sayının pozitif, negatif veya sıfır olduğunu kontrol eden bir program yazın. Program sonucu ekrana yazdırsın. (10p)"
   ]
  },
  {
   "cell_type": "code",
   "execution_count": null,
   "id": "58a926aa",
   "metadata": {},
   "outputs": [],
   "source": []
  },
  {
   "cell_type": "markdown",
   "id": "c7dc3125",
   "metadata": {},
   "source": [
    "#### Soru 3: Sevdiğiniz kitaplardan ve yazarlarından oluşan bir liste oluşturun. Bu liste, her bir kitabın adını ve yazarını içeren alt listelerden oluşsun. Ardından, ilk üç kitabı içeren bir dilim oluşturun ve ekrana verin. (10p)"
   ]
  },
  {
   "cell_type": "code",
   "execution_count": null,
   "id": "001de467",
   "metadata": {},
   "outputs": [],
   "source": []
  },
  {
   "cell_type": "markdown",
   "id": "41bf55b8",
   "metadata": {},
   "source": [
    "#### Soru 4: Kullanıcıdan alınan bir cümleyi kelimelerine ayıran bir program yazın. Bu program, bir cümleyi bir liste halinde saklamalı ve ardından kullanıcıdan bir kelime girmesini istemelidir. Program, bu kelimenin cümlede kaç kez geçtiğini bulmalıdır. (10p)"
   ]
  },
  {
   "cell_type": "code",
   "execution_count": null,
   "id": "d6390fbb",
   "metadata": {},
   "outputs": [],
   "source": []
  },
  {
   "cell_type": "markdown",
   "id": "6baea772",
   "metadata": {},
   "source": [
    "#### Soru 5: (15p)\n",
    "Bir ders sınıfı için aşağıdaki adımları içeren bir program yazın:\n",
    "\n",
    "a) \"notlar\" adında bir liste oluşturun ve sırasıyla öğrencilerin aldığı notları içersin (örneğin: [78, 92, 65, 89, 81]).\n",
    "\n",
    "b) Bu listenin ortalamasını hesaplayın ve ortalamayı ekrana yazdırın.\n",
    "\n",
    "c) Ardından, bu listenin içindeki her notu 5 puan arttırarak yeni notları içeren bir liste oluşturun (FOR DÖNGÜSÜ ya da LIST COMPREHENSION kullanılacak, manuel değil). Yeni notları içeren listeyi ekrana yazdırın."
   ]
  },
  {
   "cell_type": "code",
   "execution_count": null,
   "id": "f986ffba",
   "metadata": {},
   "outputs": [],
   "source": []
  },
  {
   "cell_type": "markdown",
   "id": "92ca6e8a",
   "metadata": {},
   "source": [
    "#### Soru 6: Bir şirketin aylık gelir ve giderlerini içeren iki adet ayrı NumPy dizisi olduğunu düşünün. Aylık kârı, toplam kârı, ortalama kârı hesaplayan bir Python programı yazın. (15 p)"
   ]
  },
  {
   "cell_type": "code",
   "execution_count": null,
   "id": "16e0db7b",
   "metadata": {},
   "outputs": [],
   "source": []
  },
  {
   "cell_type": "markdown",
   "id": "7b13af0d",
   "metadata": {},
   "source": [
    "#### Soru 7: Verilen liste [1, 2, 3, 4, 5] için, bu listenin elemanlarının karelerinden oluşan yeni bir liste oluşturan bir list comprehension ifadesi yazın. (10p)"
   ]
  },
  {
   "cell_type": "code",
   "execution_count": null,
   "id": "f7d751a3",
   "metadata": {},
   "outputs": [],
   "source": []
  },
  {
   "cell_type": "markdown",
   "id": "8bfa456d",
   "metadata": {},
   "source": [
    "#### Soru 8 (20 p): \n",
    "\n",
    "olculer = [12.5, 8.7, 15.2, 10.8, 9.5]\n",
    "\n",
    "Bu listedeki ölçüleri kullanarak aşağıdaki tabloda belirtilen koşulları denetleyen bir program yazınız. \n",
    "\n",
    "\n",
    "| Koşul                                                 | Durum       |\n",
    "|--------------------------------------------------------|-------------|\n",
    "| Ortalama 10'dan Büyük ve Standart Sapma 5'ten Küçük    | Riskli      |\n",
    "| Ortalama 10'dan Küçük ve Standart Sapma 5'ten Büyük    | Risksiz     |\n",
    "| Ortalama 10'dan Büyük veya Standart Sapma 5'ten Küçük. | Orta Riskli |\n",
    "| Hiçbiri                                                | Belirsiz    |"
   ]
  }
 ],
 "metadata": {
  "kernelspec": {
   "display_name": "Python 3",
   "language": "python",
   "name": "python3"
  },
  "language_info": {
   "codemirror_mode": {
    "name": "ipython",
    "version": 3
   },
   "file_extension": ".py",
   "mimetype": "text/x-python",
   "name": "python",
   "nbconvert_exporter": "python",
   "pygments_lexer": "ipython3",
   "version": "3.8.8"
  }
 },
 "nbformat": 4,
 "nbformat_minor": 5
}
