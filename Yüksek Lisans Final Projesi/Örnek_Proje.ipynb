{
  "nbformat": 4,
  "nbformat_minor": 0,
  "metadata": {
    "colab": {
      "provenance": []
    },
    "kernelspec": {
      "name": "python3",
      "display_name": "Python 3"
    }
  },
  "cells": [
    {
      "cell_type": "markdown",
      "metadata": {
        "id": "jYaGP5FNVfn7"
      },
      "source": [
        "Gerekli kütüphanelerin yüklenmesi"
      ]
    },
    {
      "cell_type": "code",
      "metadata": {
        "id": "iOnZt5WKNaIL"
      },
      "source": [
        "import numpy as np \n",
        "import pandas as pd \n",
        "import matplotlib.pyplot as plt\n",
        "import seaborn as sns"
      ],
      "execution_count": null,
      "outputs": []
    },
    {
      "cell_type": "markdown",
      "metadata": {
        "id": "HgRphJZaVl1h"
      },
      "source": [
        "Netflix veri setinin yüklenmesi (netflix_titles.csv)\n"
      ]
    },
    {
      "cell_type": "code",
      "metadata": {
        "id": "MVdNDP9zV3zK"
      },
      "source": [
        "netflix = netflix=pd.read_csv('netflix_titles.csv')"
      ],
      "execution_count": null,
      "outputs": []
    },
    {
      "cell_type": "markdown",
      "metadata": {
        "id": "8ChRNOxOWDcp"
      },
      "source": [
        "İlk 10 satırı ekrana verelim ve veri setimizi inceleyelim.\n"
      ]
    },
    {
      "cell_type": "code",
      "metadata": {
        "colab": {
          "base_uri": "https://localhost:8080/",
          "height": 962
        },
        "id": "cHJsrO2nWF6x",
        "outputId": "749761e3-0ec3-4fe7-8061-fc023e5c79e3"
      },
      "source": [
        "netflix.head(10)"
      ],
      "execution_count": null,
      "outputs": [
        {
          "output_type": "execute_result",
          "data": {
            "text/plain": [
              "    show_id     type                                    title  \\\n",
              "0  81145628    Movie  Norm of the North: King Sized Adventure   \n",
              "1  80117401    Movie               Jandino: Whatever it Takes   \n",
              "2  70234439  TV Show                       Transformers Prime   \n",
              "3  80058654  TV Show         Transformers: Robots in Disguise   \n",
              "4  80125979    Movie                             #realityhigh   \n",
              "5  80163890  TV Show                                  Apaches   \n",
              "6  70304989    Movie                                 Automata   \n",
              "7  80164077    Movie       Fabrizio Copano: Solo pienso en mi   \n",
              "8  80117902  TV Show                             Fire Chasers   \n",
              "9  70304990    Movie                              Good People   \n",
              "\n",
              "                          director  \\\n",
              "0         Richard Finn, Tim Maltby   \n",
              "1                              NaN   \n",
              "2                              NaN   \n",
              "3                              NaN   \n",
              "4                 Fernando Lebrija   \n",
              "5                              NaN   \n",
              "6                      Gabe Ibáñez   \n",
              "7  Rodrigo Toro, Francisco Schultz   \n",
              "8                              NaN   \n",
              "9                Henrik Ruben Genz   \n",
              "\n",
              "                                                cast  \\\n",
              "0  Alan Marriott, Andrew Toth, Brian Dobson, Cole...   \n",
              "1                                   Jandino Asporaat   \n",
              "2  Peter Cullen, Sumalee Montano, Frank Welker, J...   \n",
              "3  Will Friedle, Darren Criss, Constance Zimmer, ...   \n",
              "4  Nesta Cooper, Kate Walsh, John Michael Higgins...   \n",
              "5  Alberto Ammann, Eloy Azorín, Verónica Echegui,...   \n",
              "6  Antonio Banderas, Dylan McDermott, Melanie Gri...   \n",
              "7                                    Fabrizio Copano   \n",
              "8                                                NaN   \n",
              "9  James Franco, Kate Hudson, Tom Wilkinson, Omar...   \n",
              "\n",
              "                                          country         date_added  \\\n",
              "0        United States, India, South Korea, China  September 9, 2019   \n",
              "1                                  United Kingdom  September 9, 2016   \n",
              "2                                   United States  September 8, 2018   \n",
              "3                                   United States  September 8, 2018   \n",
              "4                                   United States  September 8, 2017   \n",
              "5                                           Spain  September 8, 2017   \n",
              "6          Bulgaria, United States, Spain, Canada  September 8, 2017   \n",
              "7                                           Chile  September 8, 2017   \n",
              "8                                   United States  September 8, 2017   \n",
              "9  United States, United Kingdom, Denmark, Sweden  September 8, 2017   \n",
              "\n",
              "   release_year    rating  duration  \\\n",
              "0          2019     TV-PG    90 min   \n",
              "1          2016     TV-MA    94 min   \n",
              "2          2013  TV-Y7-FV  1 Season   \n",
              "3          2016     TV-Y7  1 Season   \n",
              "4          2017     TV-14    99 min   \n",
              "5          2016     TV-MA  1 Season   \n",
              "6          2014         R   110 min   \n",
              "7          2017     TV-MA    60 min   \n",
              "8          2017     TV-MA  1 Season   \n",
              "9          2014         R    90 min   \n",
              "\n",
              "                                           listed_in  \\\n",
              "0                 Children & Family Movies, Comedies   \n",
              "1                                    Stand-Up Comedy   \n",
              "2                                           Kids' TV   \n",
              "3                                           Kids' TV   \n",
              "4                                           Comedies   \n",
              "5  Crime TV Shows, International TV Shows, Spanis...   \n",
              "6  International Movies, Sci-Fi & Fantasy, Thrillers   \n",
              "7                                    Stand-Up Comedy   \n",
              "8                    Docuseries, Science & Nature TV   \n",
              "9                      Action & Adventure, Thrillers   \n",
              "\n",
              "                                         description  \n",
              "0  Before planning an awesome wedding for his gra...  \n",
              "1  Jandino Asporaat riffs on the challenges of ra...  \n",
              "2  With the help of three human allies, the Autob...  \n",
              "3  When a prison ship crash unleashes hundreds of...  \n",
              "4  When nerdy high schooler Dani finally attracts...  \n",
              "5  A young journalist is forced into a life of cr...  \n",
              "6  In a dystopian future, an insurance adjuster f...  \n",
              "7  Fabrizio Copano takes audience participation t...  \n",
              "8  As California's 2016 fire season rages, brave ...  \n",
              "9  A struggling couple can't believe their luck w...  "
            ],
            "text/html": [
              "\n",
              "  <div id=\"df-6a2d1545-838d-4e3a-9478-0e567de48a60\">\n",
              "    <div class=\"colab-df-container\">\n",
              "      <div>\n",
              "<style scoped>\n",
              "    .dataframe tbody tr th:only-of-type {\n",
              "        vertical-align: middle;\n",
              "    }\n",
              "\n",
              "    .dataframe tbody tr th {\n",
              "        vertical-align: top;\n",
              "    }\n",
              "\n",
              "    .dataframe thead th {\n",
              "        text-align: right;\n",
              "    }\n",
              "</style>\n",
              "<table border=\"1\" class=\"dataframe\">\n",
              "  <thead>\n",
              "    <tr style=\"text-align: right;\">\n",
              "      <th></th>\n",
              "      <th>show_id</th>\n",
              "      <th>type</th>\n",
              "      <th>title</th>\n",
              "      <th>director</th>\n",
              "      <th>cast</th>\n",
              "      <th>country</th>\n",
              "      <th>date_added</th>\n",
              "      <th>release_year</th>\n",
              "      <th>rating</th>\n",
              "      <th>duration</th>\n",
              "      <th>listed_in</th>\n",
              "      <th>description</th>\n",
              "    </tr>\n",
              "  </thead>\n",
              "  <tbody>\n",
              "    <tr>\n",
              "      <th>0</th>\n",
              "      <td>81145628</td>\n",
              "      <td>Movie</td>\n",
              "      <td>Norm of the North: King Sized Adventure</td>\n",
              "      <td>Richard Finn, Tim Maltby</td>\n",
              "      <td>Alan Marriott, Andrew Toth, Brian Dobson, Cole...</td>\n",
              "      <td>United States, India, South Korea, China</td>\n",
              "      <td>September 9, 2019</td>\n",
              "      <td>2019</td>\n",
              "      <td>TV-PG</td>\n",
              "      <td>90 min</td>\n",
              "      <td>Children &amp; Family Movies, Comedies</td>\n",
              "      <td>Before planning an awesome wedding for his gra...</td>\n",
              "    </tr>\n",
              "    <tr>\n",
              "      <th>1</th>\n",
              "      <td>80117401</td>\n",
              "      <td>Movie</td>\n",
              "      <td>Jandino: Whatever it Takes</td>\n",
              "      <td>NaN</td>\n",
              "      <td>Jandino Asporaat</td>\n",
              "      <td>United Kingdom</td>\n",
              "      <td>September 9, 2016</td>\n",
              "      <td>2016</td>\n",
              "      <td>TV-MA</td>\n",
              "      <td>94 min</td>\n",
              "      <td>Stand-Up Comedy</td>\n",
              "      <td>Jandino Asporaat riffs on the challenges of ra...</td>\n",
              "    </tr>\n",
              "    <tr>\n",
              "      <th>2</th>\n",
              "      <td>70234439</td>\n",
              "      <td>TV Show</td>\n",
              "      <td>Transformers Prime</td>\n",
              "      <td>NaN</td>\n",
              "      <td>Peter Cullen, Sumalee Montano, Frank Welker, J...</td>\n",
              "      <td>United States</td>\n",
              "      <td>September 8, 2018</td>\n",
              "      <td>2013</td>\n",
              "      <td>TV-Y7-FV</td>\n",
              "      <td>1 Season</td>\n",
              "      <td>Kids' TV</td>\n",
              "      <td>With the help of three human allies, the Autob...</td>\n",
              "    </tr>\n",
              "    <tr>\n",
              "      <th>3</th>\n",
              "      <td>80058654</td>\n",
              "      <td>TV Show</td>\n",
              "      <td>Transformers: Robots in Disguise</td>\n",
              "      <td>NaN</td>\n",
              "      <td>Will Friedle, Darren Criss, Constance Zimmer, ...</td>\n",
              "      <td>United States</td>\n",
              "      <td>September 8, 2018</td>\n",
              "      <td>2016</td>\n",
              "      <td>TV-Y7</td>\n",
              "      <td>1 Season</td>\n",
              "      <td>Kids' TV</td>\n",
              "      <td>When a prison ship crash unleashes hundreds of...</td>\n",
              "    </tr>\n",
              "    <tr>\n",
              "      <th>4</th>\n",
              "      <td>80125979</td>\n",
              "      <td>Movie</td>\n",
              "      <td>#realityhigh</td>\n",
              "      <td>Fernando Lebrija</td>\n",
              "      <td>Nesta Cooper, Kate Walsh, John Michael Higgins...</td>\n",
              "      <td>United States</td>\n",
              "      <td>September 8, 2017</td>\n",
              "      <td>2017</td>\n",
              "      <td>TV-14</td>\n",
              "      <td>99 min</td>\n",
              "      <td>Comedies</td>\n",
              "      <td>When nerdy high schooler Dani finally attracts...</td>\n",
              "    </tr>\n",
              "    <tr>\n",
              "      <th>5</th>\n",
              "      <td>80163890</td>\n",
              "      <td>TV Show</td>\n",
              "      <td>Apaches</td>\n",
              "      <td>NaN</td>\n",
              "      <td>Alberto Ammann, Eloy Azorín, Verónica Echegui,...</td>\n",
              "      <td>Spain</td>\n",
              "      <td>September 8, 2017</td>\n",
              "      <td>2016</td>\n",
              "      <td>TV-MA</td>\n",
              "      <td>1 Season</td>\n",
              "      <td>Crime TV Shows, International TV Shows, Spanis...</td>\n",
              "      <td>A young journalist is forced into a life of cr...</td>\n",
              "    </tr>\n",
              "    <tr>\n",
              "      <th>6</th>\n",
              "      <td>70304989</td>\n",
              "      <td>Movie</td>\n",
              "      <td>Automata</td>\n",
              "      <td>Gabe Ibáñez</td>\n",
              "      <td>Antonio Banderas, Dylan McDermott, Melanie Gri...</td>\n",
              "      <td>Bulgaria, United States, Spain, Canada</td>\n",
              "      <td>September 8, 2017</td>\n",
              "      <td>2014</td>\n",
              "      <td>R</td>\n",
              "      <td>110 min</td>\n",
              "      <td>International Movies, Sci-Fi &amp; Fantasy, Thrillers</td>\n",
              "      <td>In a dystopian future, an insurance adjuster f...</td>\n",
              "    </tr>\n",
              "    <tr>\n",
              "      <th>7</th>\n",
              "      <td>80164077</td>\n",
              "      <td>Movie</td>\n",
              "      <td>Fabrizio Copano: Solo pienso en mi</td>\n",
              "      <td>Rodrigo Toro, Francisco Schultz</td>\n",
              "      <td>Fabrizio Copano</td>\n",
              "      <td>Chile</td>\n",
              "      <td>September 8, 2017</td>\n",
              "      <td>2017</td>\n",
              "      <td>TV-MA</td>\n",
              "      <td>60 min</td>\n",
              "      <td>Stand-Up Comedy</td>\n",
              "      <td>Fabrizio Copano takes audience participation t...</td>\n",
              "    </tr>\n",
              "    <tr>\n",
              "      <th>8</th>\n",
              "      <td>80117902</td>\n",
              "      <td>TV Show</td>\n",
              "      <td>Fire Chasers</td>\n",
              "      <td>NaN</td>\n",
              "      <td>NaN</td>\n",
              "      <td>United States</td>\n",
              "      <td>September 8, 2017</td>\n",
              "      <td>2017</td>\n",
              "      <td>TV-MA</td>\n",
              "      <td>1 Season</td>\n",
              "      <td>Docuseries, Science &amp; Nature TV</td>\n",
              "      <td>As California's 2016 fire season rages, brave ...</td>\n",
              "    </tr>\n",
              "    <tr>\n",
              "      <th>9</th>\n",
              "      <td>70304990</td>\n",
              "      <td>Movie</td>\n",
              "      <td>Good People</td>\n",
              "      <td>Henrik Ruben Genz</td>\n",
              "      <td>James Franco, Kate Hudson, Tom Wilkinson, Omar...</td>\n",
              "      <td>United States, United Kingdom, Denmark, Sweden</td>\n",
              "      <td>September 8, 2017</td>\n",
              "      <td>2014</td>\n",
              "      <td>R</td>\n",
              "      <td>90 min</td>\n",
              "      <td>Action &amp; Adventure, Thrillers</td>\n",
              "      <td>A struggling couple can't believe their luck w...</td>\n",
              "    </tr>\n",
              "  </tbody>\n",
              "</table>\n",
              "</div>\n",
              "      <button class=\"colab-df-convert\" onclick=\"convertToInteractive('df-6a2d1545-838d-4e3a-9478-0e567de48a60')\"\n",
              "              title=\"Convert this dataframe to an interactive table.\"\n",
              "              style=\"display:none;\">\n",
              "        \n",
              "  <svg xmlns=\"http://www.w3.org/2000/svg\" height=\"24px\"viewBox=\"0 0 24 24\"\n",
              "       width=\"24px\">\n",
              "    <path d=\"M0 0h24v24H0V0z\" fill=\"none\"/>\n",
              "    <path d=\"M18.56 5.44l.94 2.06.94-2.06 2.06-.94-2.06-.94-.94-2.06-.94 2.06-2.06.94zm-11 1L8.5 8.5l.94-2.06 2.06-.94-2.06-.94L8.5 2.5l-.94 2.06-2.06.94zm10 10l.94 2.06.94-2.06 2.06-.94-2.06-.94-.94-2.06-.94 2.06-2.06.94z\"/><path d=\"M17.41 7.96l-1.37-1.37c-.4-.4-.92-.59-1.43-.59-.52 0-1.04.2-1.43.59L10.3 9.45l-7.72 7.72c-.78.78-.78 2.05 0 2.83L4 21.41c.39.39.9.59 1.41.59.51 0 1.02-.2 1.41-.59l7.78-7.78 2.81-2.81c.8-.78.8-2.07 0-2.86zM5.41 20L4 18.59l7.72-7.72 1.47 1.35L5.41 20z\"/>\n",
              "  </svg>\n",
              "      </button>\n",
              "      \n",
              "  <style>\n",
              "    .colab-df-container {\n",
              "      display:flex;\n",
              "      flex-wrap:wrap;\n",
              "      gap: 12px;\n",
              "    }\n",
              "\n",
              "    .colab-df-convert {\n",
              "      background-color: #E8F0FE;\n",
              "      border: none;\n",
              "      border-radius: 50%;\n",
              "      cursor: pointer;\n",
              "      display: none;\n",
              "      fill: #1967D2;\n",
              "      height: 32px;\n",
              "      padding: 0 0 0 0;\n",
              "      width: 32px;\n",
              "    }\n",
              "\n",
              "    .colab-df-convert:hover {\n",
              "      background-color: #E2EBFA;\n",
              "      box-shadow: 0px 1px 2px rgba(60, 64, 67, 0.3), 0px 1px 3px 1px rgba(60, 64, 67, 0.15);\n",
              "      fill: #174EA6;\n",
              "    }\n",
              "\n",
              "    [theme=dark] .colab-df-convert {\n",
              "      background-color: #3B4455;\n",
              "      fill: #D2E3FC;\n",
              "    }\n",
              "\n",
              "    [theme=dark] .colab-df-convert:hover {\n",
              "      background-color: #434B5C;\n",
              "      box-shadow: 0px 1px 3px 1px rgba(0, 0, 0, 0.15);\n",
              "      filter: drop-shadow(0px 1px 2px rgba(0, 0, 0, 0.3));\n",
              "      fill: #FFFFFF;\n",
              "    }\n",
              "  </style>\n",
              "\n",
              "      <script>\n",
              "        const buttonEl =\n",
              "          document.querySelector('#df-6a2d1545-838d-4e3a-9478-0e567de48a60 button.colab-df-convert');\n",
              "        buttonEl.style.display =\n",
              "          google.colab.kernel.accessAllowed ? 'block' : 'none';\n",
              "\n",
              "        async function convertToInteractive(key) {\n",
              "          const element = document.querySelector('#df-6a2d1545-838d-4e3a-9478-0e567de48a60');\n",
              "          const dataTable =\n",
              "            await google.colab.kernel.invokeFunction('convertToInteractive',\n",
              "                                                     [key], {});\n",
              "          if (!dataTable) return;\n",
              "\n",
              "          const docLinkHtml = 'Like what you see? Visit the ' +\n",
              "            '<a target=\"_blank\" href=https://colab.research.google.com/notebooks/data_table.ipynb>data table notebook</a>'\n",
              "            + ' to learn more about interactive tables.';\n",
              "          element.innerHTML = '';\n",
              "          dataTable['output_type'] = 'display_data';\n",
              "          await google.colab.output.renderOutput(dataTable, element);\n",
              "          const docLink = document.createElement('div');\n",
              "          docLink.innerHTML = docLinkHtml;\n",
              "          element.appendChild(docLink);\n",
              "        }\n",
              "      </script>\n",
              "    </div>\n",
              "  </div>\n",
              "  "
            ]
          },
          "metadata": {},
          "execution_count": 3
        }
      ]
    },
    {
      "cell_type": "markdown",
      "metadata": {
        "id": "MxavGBvvWOs5"
      },
      "source": [
        "Veri setinin boyutunu inceleyelim."
      ]
    },
    {
      "cell_type": "code",
      "metadata": {
        "colab": {
          "base_uri": "https://localhost:8080/"
        },
        "id": "CjqJSrBEWUKZ",
        "outputId": "b5852f05-9bd0-4dcc-f6a0-efc3f6bed59d"
      },
      "source": [
        "netflix.shape"
      ],
      "execution_count": null,
      "outputs": [
        {
          "output_type": "execute_result",
          "data": {
            "text/plain": [
              "(6234, 12)"
            ]
          },
          "metadata": {},
          "execution_count": 4
        }
      ]
    },
    {
      "cell_type": "markdown",
      "metadata": {
        "id": "K0CxAEIEWd0R"
      },
      "source": [
        "Veri setinde 12 sütun ve 6234 satır olduğunu öğrendik. Veri setinde bulunan sütunların isimlerini ekrana verelim."
      ]
    },
    {
      "cell_type": "code",
      "metadata": {
        "colab": {
          "base_uri": "https://localhost:8080/"
        },
        "id": "VJ6_YRiCWXgZ",
        "outputId": "a7f83440-e434-4152-e93f-f22c3c4c300c"
      },
      "source": [
        "netflix.columns"
      ],
      "execution_count": null,
      "outputs": [
        {
          "output_type": "execute_result",
          "data": {
            "text/plain": [
              "Index(['show_id', 'type', 'title', 'director', 'cast', 'country', 'date_added',\n",
              "       'release_year', 'rating', 'duration', 'listed_in', 'description'],\n",
              "      dtype='object')"
            ]
          },
          "metadata": {},
          "execution_count": 5
        }
      ]
    },
    {
      "cell_type": "markdown",
      "metadata": {
        "id": "cs-q9uAZWhaR"
      },
      "source": [
        "\n",
        "Veri setinde NULL değerlerin olup olmadığınını kontrol edelim."
      ]
    },
    {
      "cell_type": "code",
      "metadata": {
        "colab": {
          "base_uri": "https://localhost:8080/"
        },
        "id": "EypT_URzWn3h",
        "outputId": "b3c969f6-628e-4aad-ac6e-90a8807d0386"
      },
      "source": [
        "netflix.isnull().sum()"
      ],
      "execution_count": null,
      "outputs": [
        {
          "output_type": "execute_result",
          "data": {
            "text/plain": [
              "show_id            0\n",
              "type               0\n",
              "title              0\n",
              "director        1969\n",
              "cast             570\n",
              "country          476\n",
              "date_added        11\n",
              "release_year       0\n",
              "rating            10\n",
              "duration           0\n",
              "listed_in          0\n",
              "description        0\n",
              "dtype: int64"
            ]
          },
          "metadata": {},
          "execution_count": 6
        }
      ]
    },
    {
      "cell_type": "markdown",
      "metadata": {
        "id": "eDSy_BjrW3HZ"
      },
      "source": [
        "Veri setinde yönetmen sütununda (director) 1969 satırın, oyuncu sütununda (cast) 570 satırın, ülke sütununda (country) 476 satırın, eklenme tarihi sütununda (date_added) 11 satırın, reyting sütununda (rating) 10 satırın NULL değerlerden oluştuğu görülmektedir.\n",
        "\n",
        "Şimdi de veri setindeki tekil değerlerin sayısını ekrana verelim."
      ]
    },
    {
      "cell_type": "code",
      "metadata": {
        "colab": {
          "base_uri": "https://localhost:8080/"
        },
        "id": "APTEXPjpXdny",
        "outputId": "a6e5e2ac-d251-4e12-88ad-44b8dd0f413b"
      },
      "source": [
        "netflix.nunique()"
      ],
      "execution_count": null,
      "outputs": [
        {
          "output_type": "execute_result",
          "data": {
            "text/plain": [
              "show_id         6234\n",
              "type               2\n",
              "title           6172\n",
              "director        3301\n",
              "cast            5469\n",
              "country          554\n",
              "date_added      1524\n",
              "release_year      72\n",
              "rating            14\n",
              "duration         201\n",
              "listed_in        461\n",
              "description     6226\n",
              "dtype: int64"
            ]
          },
          "metadata": {},
          "execution_count": 7
        }
      ]
    },
    {
      "cell_type": "markdown",
      "metadata": {
        "id": "9iQUSvZeXgyY"
      },
      "source": [
        "Veri setinde tekrarlanmış veri olup olmadığını inceleyelim."
      ]
    },
    {
      "cell_type": "code",
      "metadata": {
        "colab": {
          "base_uri": "https://localhost:8080/"
        },
        "id": "YoZl0sgrXgXZ",
        "outputId": "841c475f-1a95-4835-a583-2efd53d42737"
      },
      "source": [
        "netflix.duplicated().sum()"
      ],
      "execution_count": null,
      "outputs": [
        {
          "output_type": "execute_result",
          "data": {
            "text/plain": [
              "0"
            ]
          },
          "metadata": {},
          "execution_count": 8
        }
      ]
    },
    {
      "cell_type": "markdown",
      "metadata": {
        "id": "sC8qGdJSXpoS"
      },
      "source": [
        "Veri setinde tekrarlanmış (duplike) veri bulunmamaktadır. "
      ]
    },
    {
      "cell_type": "markdown",
      "metadata": {
        "id": "Y6pwT8mmXtcZ"
      },
      "source": [
        "Veri setinin bir kopyasını oluşturalım."
      ]
    },
    {
      "cell_type": "code",
      "metadata": {
        "id": "U041y3XGXydZ"
      },
      "source": [
        "df = netflix.copy()"
      ],
      "execution_count": null,
      "outputs": []
    },
    {
      "cell_type": "markdown",
      "metadata": {
        "id": "GqSxLq8jX9uh"
      },
      "source": [
        "Kopya veri setindeki NULL değerlere sahip satırları düşürelim ve yeni veri setinin boyutunu ekrana verelim."
      ]
    },
    {
      "cell_type": "code",
      "metadata": {
        "colab": {
          "base_uri": "https://localhost:8080/"
        },
        "id": "BeI-vlllX7MR",
        "outputId": "2a06c28b-a889-4c02-b892-e14b99622666"
      },
      "source": [
        "df=df.dropna()\n",
        "df.shape"
      ],
      "execution_count": null,
      "outputs": [
        {
          "output_type": "execute_result",
          "data": {
            "text/plain": [
              "(3774, 12)"
            ]
          },
          "metadata": {},
          "execution_count": 10
        }
      ]
    },
    {
      "cell_type": "markdown",
      "metadata": {
        "id": "TJlsuV19YBIx"
      },
      "source": [
        "Veri setindeki Netflix içeriklerinin türünü (type sütunu) inceleyelim. type sütununda iki tekil öznitelik bulunmaktadır: Filmler (Movies) ve TV gösterileri (TV shows). Bu sütun üzerinde seaborn veri görselleştirme kütüphanesinin countplot fonksiyonu ile bu özniteliklerin sayılarını sütun grafiğine dökelim. seaborn kütüphanesi sns olarak kısaltılmıştı. "
      ]
    },
    {
      "cell_type": "code",
      "metadata": {
        "colab": {
          "base_uri": "https://localhost:8080/",
          "height": 694
        },
        "id": "KUu2m5W9YrwE",
        "outputId": "921109bd-7c09-4986-e34a-e15710df85a5"
      },
      "source": [
        "sns.countplot(netflix['type'])\n",
        "fig = plt.gcf()\n",
        "fig.set_size_inches(10,10)\n",
        "plt.title('İçerik Türü')"
      ],
      "execution_count": null,
      "outputs": [
        {
          "output_type": "stream",
          "name": "stderr",
          "text": [
            "/usr/local/lib/python3.8/dist-packages/seaborn/_decorators.py:36: FutureWarning: Pass the following variable as a keyword arg: x. From version 0.12, the only valid positional argument will be `data`, and passing other arguments without an explicit keyword will result in an error or misinterpretation.\n",
            "  warnings.warn(\n"
          ]
        },
        {
          "output_type": "execute_result",
          "data": {
            "text/plain": [
              "Text(0.5, 1.0, 'İçerik Türü')"
            ]
          },
          "metadata": {},
          "execution_count": 11
        },
        {
          "output_type": "display_data",
          "data": {
            "text/plain": [
              "<Figure size 720x720 with 1 Axes>"
            ],
            "image/png": "[encoded data removed]"
          },
          "metadata": {
            "needs_background": "light"
          }
        }
      ]
    },
    {
      "cell_type": "markdown",
      "metadata": {
        "id": "MUcz15gcZFYR"
      },
      "source": [
        "Aynı bilgiyi pasta grafiğinde görelim. Bunun için matplotlib kütüphanesinin plot.pie fonksiyonunu kullanalım. "
      ]
    },
    {
      "cell_type": "code",
      "metadata": {
        "colab": {
          "base_uri": "https://localhost:8080/",
          "height": 466
        },
        "id": "eVt8p5xCZO9a",
        "outputId": "d0da8290-6a09-4555-c7a1-69f2e433d3ad"
      },
      "source": [
        "netflix['type'].value_counts().plot.pie(autopct='%1.1f%%',shadow=True,figsize=(10,8))\n",
        "plt.show()"
      ],
      "execution_count": null,
      "outputs": [
        {
          "output_type": "display_data",
          "data": {
            "text/plain": [
              "<Figure size 720x576 with 1 Axes>"
            ],
            "image/png": "[encoded data removed]"
          },
          "metadata": {}
        }
      ]
    },
    {
      "cell_type": "markdown",
      "metadata": {
        "id": "tZd0NtTum3H6"
      },
      "source": [
        "Ülkeleri ürettikleri içerik sayısı açısından sıralayalım. Bunun için pandas kütüphanesinde yeni bir veri çerçevesi oluşturalım. `pd.DataFrame` fonksiyonunu kullanalım. Argüman olarak. `value_counts()` metodunu kullanalım. Yeni veri çerçevesinin sütun isimlerini de \"country\" ve \"count\" olarak tayin edelim. "
      ]
    },
    {
      "cell_type": "code",
      "metadata": {
        "colab": {
          "base_uri": "https://localhost:8080/",
          "height": 204
        },
        "id": "s6K8_5tNfAU1",
        "outputId": "fb7f5a83-8688-4e9b-aa41-5eb99a5f33e1"
      },
      "source": [
        "df_countries = pd.DataFrame(df.country.value_counts().reset_index().values, columns=[\"country\", \"count\"])\n",
        "df_countries.head()"
      ],
      "execution_count": null,
      "outputs": [
        {
          "output_type": "execute_result",
          "data": {
            "text/html": [
              "<div>\n",
              "<style scoped>\n",
              "    .dataframe tbody tr th:only-of-type {\n",
              "        vertical-align: middle;\n",
              "    }\n",
              "\n",
              "    .dataframe tbody tr th {\n",
              "        vertical-align: top;\n",
              "    }\n",
              "\n",
              "    .dataframe thead th {\n",
              "        text-align: right;\n",
              "    }\n",
              "</style>\n",
              "<table border=\"1\" class=\"dataframe\">\n",
              "  <thead>\n",
              "    <tr style=\"text-align: right;\">\n",
              "      <th></th>\n",
              "      <th>country</th>\n",
              "      <th>count</th>\n",
              "    </tr>\n",
              "  </thead>\n",
              "  <tbody>\n",
              "    <tr>\n",
              "      <th>0</th>\n",
              "      <td>United States</td>\n",
              "      <td>1323</td>\n",
              "    </tr>\n",
              "    <tr>\n",
              "      <th>1</th>\n",
              "      <td>India</td>\n",
              "      <td>707</td>\n",
              "    </tr>\n",
              "    <tr>\n",
              "      <th>2</th>\n",
              "      <td>United Kingdom</td>\n",
              "      <td>152</td>\n",
              "    </tr>\n",
              "    <tr>\n",
              "      <th>3</th>\n",
              "      <td>Canada</td>\n",
              "      <td>78</td>\n",
              "    </tr>\n",
              "    <tr>\n",
              "      <th>4</th>\n",
              "      <td>Spain</td>\n",
              "      <td>72</td>\n",
              "    </tr>\n",
              "  </tbody>\n",
              "</table>\n",
              "</div>"
            ],
            "text/plain": [
              "          country count\n",
              "0   United States  1323\n",
              "1           India   707\n",
              "2  United Kingdom   152\n",
              "3          Canada    78\n",
              "4           Spain    72"
            ]
          },
          "metadata": {
            "tags": []
          },
          "execution_count": 13
        }
      ]
    },
    {
      "cell_type": "markdown",
      "metadata": {
        "id": "_wM1j2eengAZ"
      },
      "source": [
        "Hangi tarihlerde en çok içeriğin Netflix havuzuna eklendiğini  sıralayalım. Bunun için pandas kütüphanesinde yeni bir veri çerçevesi oluşturalım. `pd.DataFrame` fonksiyonunu kullanalım. Argüman olarak. `value_counts()` metodunu kullanalım. Yeni veri çerçevesinin sütun isimlerini de \"Date\" ve \"Count\" olarak tayin edelim. "
      ]
    },
    {
      "cell_type": "code",
      "metadata": {
        "colab": {
          "base_uri": "https://localhost:8080/",
          "height": 204
        },
        "id": "_mN9yL5Ifo1x",
        "outputId": "581f58b9-8e10-466d-ba45-d9349a0cbf6d"
      },
      "source": [
        "date = pd.DataFrame(df.date_added.value_counts().reset_index().values, columns=[\"Date\", \"Count\"])\n",
        "date.head()"
      ],
      "execution_count": null,
      "outputs": [
        {
          "output_type": "execute_result",
          "data": {
            "text/html": [
              "<div>\n",
              "<style scoped>\n",
              "    .dataframe tbody tr th:only-of-type {\n",
              "        vertical-align: middle;\n",
              "    }\n",
              "\n",
              "    .dataframe tbody tr th {\n",
              "        vertical-align: top;\n",
              "    }\n",
              "\n",
              "    .dataframe thead th {\n",
              "        text-align: right;\n",
              "    }\n",
              "</style>\n",
              "<table border=\"1\" class=\"dataframe\">\n",
              "  <thead>\n",
              "    <tr style=\"text-align: right;\">\n",
              "      <th></th>\n",
              "      <th>Date</th>\n",
              "      <th>Count</th>\n",
              "    </tr>\n",
              "  </thead>\n",
              "  <tbody>\n",
              "    <tr>\n",
              "      <th>0</th>\n",
              "      <td>January 1, 2020</td>\n",
              "      <td>105</td>\n",
              "    </tr>\n",
              "    <tr>\n",
              "      <th>1</th>\n",
              "      <td>November 1, 2019</td>\n",
              "      <td>73</td>\n",
              "    </tr>\n",
              "    <tr>\n",
              "      <th>2</th>\n",
              "      <td>March 1, 2018</td>\n",
              "      <td>70</td>\n",
              "    </tr>\n",
              "    <tr>\n",
              "      <th>3</th>\n",
              "      <td>December 31, 2019</td>\n",
              "      <td>64</td>\n",
              "    </tr>\n",
              "    <tr>\n",
              "      <th>4</th>\n",
              "      <td>October 1, 2018</td>\n",
              "      <td>61</td>\n",
              "    </tr>\n",
              "  </tbody>\n",
              "</table>\n",
              "</div>"
            ],
            "text/plain": [
              "                Date Count\n",
              "0    January 1, 2020   105\n",
              "1   November 1, 2019    73\n",
              "2      March 1, 2018    70\n",
              "3  December 31, 2019    64\n",
              "4    October 1, 2018    61"
            ]
          },
          "metadata": {
            "tags": []
          },
          "execution_count": 14
        }
      ]
    },
    {
      "cell_type": "markdown",
      "metadata": {
        "id": "H-cHwz6yokH4"
      },
      "source": [
        "Netflix veri setindeki yayınlanmış en eski 15 içeriği ekrana verelim. Bunun için pandas kütüphanesinin `sort_values` fonksiyonunu kullanalım. Ekrana verme işleminde ise, yayın tarihine göre sıralanmış veri çerçevesinin (`eski`) başlık (`title`) ve yayınlanma tarihi (`release_year`) sütunlarını ekrana verelim. "
      ]
    },
    {
      "cell_type": "code",
      "metadata": {
        "colab": {
          "base_uri": "https://localhost:8080/",
          "height": 514
        },
        "id": "bBhtXijaf0vI",
        "outputId": "f266296c-9e17-485f-cd35-dc5c32e1199a"
      },
      "source": [
        "eski = df.sort_values(\"release_year\", ascending = True)\n",
        "eski[['title', \"release_year\"]][:15]"
      ],
      "execution_count": null,
      "outputs": [
        {
          "output_type": "execute_result",
          "data": {
            "text/html": [
              "<div>\n",
              "<style scoped>\n",
              "    .dataframe tbody tr th:only-of-type {\n",
              "        vertical-align: middle;\n",
              "    }\n",
              "\n",
              "    .dataframe tbody tr th {\n",
              "        vertical-align: top;\n",
              "    }\n",
              "\n",
              "    .dataframe thead th {\n",
              "        text-align: right;\n",
              "    }\n",
              "</style>\n",
              "<table border=\"1\" class=\"dataframe\">\n",
              "  <thead>\n",
              "    <tr style=\"text-align: right;\">\n",
              "      <th></th>\n",
              "      <th>title</th>\n",
              "      <th>release_year</th>\n",
              "    </tr>\n",
              "  </thead>\n",
              "  <tbody>\n",
              "    <tr>\n",
              "      <th>2013</th>\n",
              "      <td>The Battle of Midway</td>\n",
              "      <td>1942</td>\n",
              "    </tr>\n",
              "    <tr>\n",
              "      <th>2021</th>\n",
              "      <td>Tunisian Victory</td>\n",
              "      <td>1944</td>\n",
              "    </tr>\n",
              "    <tr>\n",
              "      <th>2005</th>\n",
              "      <td>Know Your Enemy - Japan</td>\n",
              "      <td>1945</td>\n",
              "    </tr>\n",
              "    <tr>\n",
              "      <th>2930</th>\n",
              "      <td>The Stranger</td>\n",
              "      <td>1946</td>\n",
              "    </tr>\n",
              "    <tr>\n",
              "      <th>2006</th>\n",
              "      <td>Let There Be Light</td>\n",
              "      <td>1946</td>\n",
              "    </tr>\n",
              "    <tr>\n",
              "      <th>2020</th>\n",
              "      <td>Thunderbolt</td>\n",
              "      <td>1947</td>\n",
              "    </tr>\n",
              "    <tr>\n",
              "      <th>2981</th>\n",
              "      <td>White Christmas</td>\n",
              "      <td>1954</td>\n",
              "    </tr>\n",
              "    <tr>\n",
              "      <th>1401</th>\n",
              "      <td>Rebel Without a Cause</td>\n",
              "      <td>1955</td>\n",
              "    </tr>\n",
              "    <tr>\n",
              "      <th>1369</th>\n",
              "      <td>Forbidden Planet</td>\n",
              "      <td>1956</td>\n",
              "    </tr>\n",
              "    <tr>\n",
              "      <th>1354</th>\n",
              "      <td>Cat on a Hot Tin Roof</td>\n",
              "      <td>1958</td>\n",
              "    </tr>\n",
              "    <tr>\n",
              "      <th>1371</th>\n",
              "      <td>Gigi</td>\n",
              "      <td>1958</td>\n",
              "    </tr>\n",
              "    <tr>\n",
              "      <th>713</th>\n",
              "      <td>Ujala</td>\n",
              "      <td>1959</td>\n",
              "    </tr>\n",
              "    <tr>\n",
              "      <th>1353</th>\n",
              "      <td>Butterfield 8</td>\n",
              "      <td>1960</td>\n",
              "    </tr>\n",
              "    <tr>\n",
              "      <th>1398</th>\n",
              "      <td>Ocean's Eleven</td>\n",
              "      <td>1960</td>\n",
              "    </tr>\n",
              "    <tr>\n",
              "      <th>709</th>\n",
              "      <td>Singapore</td>\n",
              "      <td>1960</td>\n",
              "    </tr>\n",
              "  </tbody>\n",
              "</table>\n",
              "</div>"
            ],
            "text/plain": [
              "                        title  release_year\n",
              "2013     The Battle of Midway          1942\n",
              "2021         Tunisian Victory          1944\n",
              "2005  Know Your Enemy - Japan          1945\n",
              "2930             The Stranger          1946\n",
              "2006       Let There Be Light          1946\n",
              "2020              Thunderbolt          1947\n",
              "2981          White Christmas          1954\n",
              "1401    Rebel Without a Cause          1955\n",
              "1369         Forbidden Planet          1956\n",
              "1354    Cat on a Hot Tin Roof          1958\n",
              "1371                     Gigi          1958\n",
              "713                     Ujala          1959\n",
              "1353            Butterfield 8          1960\n",
              "1398           Ocean's Eleven          1960\n",
              "709                 Singapore          1960"
            ]
          },
          "metadata": {
            "tags": []
          },
          "execution_count": 15
        }
      ]
    },
    {
      "cell_type": "markdown",
      "metadata": {
        "id": "H00pFc6Xp8b-"
      },
      "source": [
        "Netflix içeriklerinin en çok listelendiği grupları `listed_in` sütunu üzerinde `value_counts()` yöntemi ile saydıralım. En çok gruplamanın yapıldığı 10 özniteliği ekrana verelim. "
      ]
    },
    {
      "cell_type": "code",
      "metadata": {
        "colab": {
          "base_uri": "https://localhost:8080/"
        },
        "id": "Vflr-rNTpE2x",
        "outputId": "b4b68478-6441-4041-9d7c-05fd7d957bdf"
      },
      "source": [
        "favori_listeleme=netflix[\"listed_in\"].value_counts()[0:9]\n",
        "print(favori_listeleme)"
      ],
      "execution_count": null,
      "outputs": [
        {
          "output_type": "stream",
          "text": [
            "Documentaries                                       299\n",
            "Stand-Up Comedy                                     273\n",
            "Dramas, International Movies                        248\n",
            "Dramas, Independent Movies, International Movies    186\n",
            "Comedies, Dramas, International Movies              174\n",
            "Kids' TV                                            159\n",
            "Documentaries, International Movies                 150\n",
            "Children & Family Movies, Comedies                  129\n",
            "Comedies, International Movies                      120\n",
            "Name: listed_in, dtype: int64\n"
          ],
          "name": "stdout"
        }
      ]
    },
    {
      "cell_type": "markdown",
      "metadata": {
        "id": "Kr26SCp1tZ_Y"
      },
      "source": [
        "Netflix veri setinde Hindistan tarafından üretilmiş içerikleri filtreleyelim ve ilk beş içeriği ekrana verelim."
      ]
    },
    {
      "cell_type": "code",
      "metadata": {
        "colab": {
          "base_uri": "https://localhost:8080/",
          "height": 289
        },
        "id": "t_KvpZdXqk_g",
        "outputId": "a02068fe-40aa-4880-e323-9fff9ff0a7f2"
      },
      "source": [
        "hindistan_icerikleri = netflix[netflix[\"country\"] == \"India\"]\n",
        "hindistan_icerikleri.head()"
      ],
      "execution_count": null,
      "outputs": [
        {
          "output_type": "execute_result",
          "data": {
            "text/html": [
              "<div>\n",
              "<style scoped>\n",
              "    .dataframe tbody tr th:only-of-type {\n",
              "        vertical-align: middle;\n",
              "    }\n",
              "\n",
              "    .dataframe tbody tr th {\n",
              "        vertical-align: top;\n",
              "    }\n",
              "\n",
              "    .dataframe thead th {\n",
              "        text-align: right;\n",
              "    }\n",
              "</style>\n",
              "<table border=\"1\" class=\"dataframe\">\n",
              "  <thead>\n",
              "    <tr style=\"text-align: right;\">\n",
              "      <th></th>\n",
              "      <th>show_id</th>\n",
              "      <th>type</th>\n",
              "      <th>title</th>\n",
              "      <th>director</th>\n",
              "      <th>cast</th>\n",
              "      <th>country</th>\n",
              "      <th>date_added</th>\n",
              "      <th>release_year</th>\n",
              "      <th>rating</th>\n",
              "      <th>duration</th>\n",
              "      <th>listed_in</th>\n",
              "      <th>description</th>\n",
              "    </tr>\n",
              "  </thead>\n",
              "  <tbody>\n",
              "    <tr>\n",
              "      <th>35</th>\n",
              "      <td>81154455</td>\n",
              "      <td>Movie</td>\n",
              "      <td>Article 15</td>\n",
              "      <td>Anubhav Sinha</td>\n",
              "      <td>Ayushmann Khurrana, Nassar, Manoj Pahwa, Kumud...</td>\n",
              "      <td>India</td>\n",
              "      <td>September 6, 2019</td>\n",
              "      <td>2019</td>\n",
              "      <td>TV-MA</td>\n",
              "      <td>125 min</td>\n",
              "      <td>Dramas, International Movies, Thrillers</td>\n",
              "      <td>The grim realities of caste discrimination com...</td>\n",
              "    </tr>\n",
              "    <tr>\n",
              "      <th>37</th>\n",
              "      <td>81052275</td>\n",
              "      <td>Movie</td>\n",
              "      <td>Ee Nagaraniki Emaindi</td>\n",
              "      <td>Tharun Bhascker</td>\n",
              "      <td>Vishwaksen Naidu, Sushanth Reddy, Abhinav Goma...</td>\n",
              "      <td>India</td>\n",
              "      <td>September 6, 2019</td>\n",
              "      <td>2018</td>\n",
              "      <td>TV-14</td>\n",
              "      <td>133 min</td>\n",
              "      <td>Comedies, International Movies</td>\n",
              "      <td>In Goa and in desperate need of cash, four chi...</td>\n",
              "    </tr>\n",
              "    <tr>\n",
              "      <th>41</th>\n",
              "      <td>70303496</td>\n",
              "      <td>Movie</td>\n",
              "      <td>PK</td>\n",
              "      <td>Rajkumar Hirani</td>\n",
              "      <td>Aamir Khan, Anuskha Sharma, Sanjay Dutt, Saura...</td>\n",
              "      <td>India</td>\n",
              "      <td>September 6, 2018</td>\n",
              "      <td>2014</td>\n",
              "      <td>TV-14</td>\n",
              "      <td>146 min</td>\n",
              "      <td>Comedies, Dramas, International Movies</td>\n",
              "      <td>Aamir Khan teams with director Rajkumar Hirani...</td>\n",
              "    </tr>\n",
              "    <tr>\n",
              "      <th>58</th>\n",
              "      <td>81155784</td>\n",
              "      <td>Movie</td>\n",
              "      <td>Watchman</td>\n",
              "      <td>A. L. Vijay</td>\n",
              "      <td>G.V. Prakash Kumar, Samyuktha Hegde, Suman, Ra...</td>\n",
              "      <td>India</td>\n",
              "      <td>September 4, 2019</td>\n",
              "      <td>2019</td>\n",
              "      <td>TV-14</td>\n",
              "      <td>93 min</td>\n",
              "      <td>Comedies, Dramas, International Movies</td>\n",
              "      <td>Rushing to pay off a loan shark, a young man b...</td>\n",
              "    </tr>\n",
              "    <tr>\n",
              "      <th>99</th>\n",
              "      <td>80225885</td>\n",
              "      <td>TV Show</td>\n",
              "      <td>Bard of Blood</td>\n",
              "      <td>NaN</td>\n",
              "      <td>Emraan Hashmi, Viineet Kumar, Sobhita Dhulipal...</td>\n",
              "      <td>India</td>\n",
              "      <td>September 27, 2019</td>\n",
              "      <td>2019</td>\n",
              "      <td>TV-MA</td>\n",
              "      <td>1 Season</td>\n",
              "      <td>International TV Shows, TV Action &amp; Adventure,...</td>\n",
              "      <td>Years after a disastrous job in Balochistan, a...</td>\n",
              "    </tr>\n",
              "  </tbody>\n",
              "</table>\n",
              "</div>"
            ],
            "text/plain": [
              "     show_id  ...                                        description\n",
              "35  81154455  ...  The grim realities of caste discrimination com...\n",
              "37  81052275  ...  In Goa and in desperate need of cash, four chi...\n",
              "41  70303496  ...  Aamir Khan teams with director Rajkumar Hirani...\n",
              "58  81155784  ...  Rushing to pay off a loan shark, a young man b...\n",
              "99  80225885  ...  Years after a disastrous job in Balochistan, a...\n",
              "\n",
              "[5 rows x 12 columns]"
            ]
          },
          "metadata": {
            "tags": []
          },
          "execution_count": 17
        }
      ]
    },
    {
      "cell_type": "markdown",
      "metadata": {
        "id": "KSp8z9rxvGuA"
      },
      "source": [
        "Hindistan içeriklerinin eklenme tarihlerini filtreleyelim ve NumPy dizisi haline getirelim. Bu dizinin max ve min değerlerini inceleyerek, bu içeriklerin eklenme yıllarını on yıllara göre dağılımını sağlayan bir matplotlib histogramı çizdirelim. "
      ]
    },
    {
      "cell_type": "code",
      "metadata": {
        "colab": {
          "base_uri": "https://localhost:8080/",
          "height": 333
        },
        "id": "6KEDBkEhq1Q8",
        "outputId": "8e02d00f-150d-460a-fb89-66d2cd6595fa"
      },
      "source": [
        "hindistan_eklenme = hindistan_icerikleri['release_year'].to_numpy()\n",
        "print(type(hindistan_eklenme))\n",
        "print(min(hindistan_eklenme))\n",
        "print(max(hindistan_eklenme))\n",
        "plt.hist(hindistan_eklenme, bins = [1950,1960,1970,1980,1990,2000,2010,2020]) \n",
        "plt.title(\"Hindistan İçerikleri On Yıllara Göre Dağılım\") \n",
        "plt.show()\n"
      ],
      "execution_count": null,
      "outputs": [
        {
          "output_type": "stream",
          "text": [
            "<class 'numpy.ndarray'>\n",
            "1959\n",
            "2020\n"
          ],
          "name": "stdout"
        },
        {
          "output_type": "display_data",
          "data": {
            "image/png": "[encoded data removed]",
            "text/plain": [
              "<Figure size 432x288 with 1 Axes>"
            ]
          },
          "metadata": {
            "tags": [],
            "needs_background": "light"
          }
        }
      ]
    },
    {
      "cell_type": "markdown",
      "metadata": {
        "id": "2wfMf-2Pxy4I"
      },
      "source": [
        "Netflix veri setindeki 2019 tarihli içerikleri `release_year` sütununu filtreleyerek tespit edelim. Bu filtrelenmiş çerçeve üzerinden Türkiye adresli içerikleri ekrana verelim. "
      ]
    },
    {
      "cell_type": "code",
      "metadata": {
        "colab": {
          "base_uri": "https://localhost:8080/",
          "height": 337
        },
        "id": "gyLYjoYvv8Ui",
        "outputId": "d3fbfa25-6b38-4b5d-dd87-5445dcdda006"
      },
      "source": [
        "netflix_2019 = netflix[netflix['release_year'] == 2019]\n",
        "netflix_2019_turkey = netflix_2019[netflix_2019['country'] == 'Turkey']\n",
        "netflix_2019_turkey"
      ],
      "execution_count": null,
      "outputs": [
        {
          "output_type": "execute_result",
          "data": {
            "text/html": [
              "<div>\n",
              "<style scoped>\n",
              "    .dataframe tbody tr th:only-of-type {\n",
              "        vertical-align: middle;\n",
              "    }\n",
              "\n",
              "    .dataframe tbody tr th {\n",
              "        vertical-align: top;\n",
              "    }\n",
              "\n",
              "    .dataframe thead th {\n",
              "        text-align: right;\n",
              "    }\n",
              "</style>\n",
              "<table border=\"1\" class=\"dataframe\">\n",
              "  <thead>\n",
              "    <tr style=\"text-align: right;\">\n",
              "      <th></th>\n",
              "      <th>show_id</th>\n",
              "      <th>type</th>\n",
              "      <th>title</th>\n",
              "      <th>director</th>\n",
              "      <th>cast</th>\n",
              "      <th>country</th>\n",
              "      <th>date_added</th>\n",
              "      <th>release_year</th>\n",
              "      <th>rating</th>\n",
              "      <th>duration</th>\n",
              "      <th>listed_in</th>\n",
              "      <th>description</th>\n",
              "    </tr>\n",
              "  </thead>\n",
              "  <tbody>\n",
              "    <tr>\n",
              "      <th>455</th>\n",
              "      <td>81158574</td>\n",
              "      <td>Movie</td>\n",
              "      <td>Brother in Love</td>\n",
              "      <td>Onur Bilgetay</td>\n",
              "      <td>Cem Gelinoğlu, Melis Babadag, Ege Kökenli, Müf...</td>\n",
              "      <td>Turkey</td>\n",
              "      <td>October 4, 2019</td>\n",
              "      <td>2019</td>\n",
              "      <td>TV-14</td>\n",
              "      <td>110 min</td>\n",
              "      <td>Comedies, International Movies, Romantic Movies</td>\n",
              "      <td>A robbery leaves a proprietor penniless before...</td>\n",
              "    </tr>\n",
              "    <tr>\n",
              "      <th>457</th>\n",
              "      <td>81132440</td>\n",
              "      <td>Movie</td>\n",
              "      <td>Kids on the Block</td>\n",
              "      <td>Tugçe Soysop</td>\n",
              "      <td>Selim Bayraktar, Berat Efe Parlar, Esat Polat ...</td>\n",
              "      <td>Turkey</td>\n",
              "      <td>October 4, 2019</td>\n",
              "      <td>2019</td>\n",
              "      <td>TV-PG</td>\n",
              "      <td>102 min</td>\n",
              "      <td>Children &amp; Family Movies, Comedies</td>\n",
              "      <td>When their fun in the park is threatened by a ...</td>\n",
              "    </tr>\n",
              "    <tr>\n",
              "      <th>4329</th>\n",
              "      <td>81037848</td>\n",
              "      <td>TV Show</td>\n",
              "      <td>The Gift</td>\n",
              "      <td>NaN</td>\n",
              "      <td>Beren Saat, Mehmet Günsür, Metin Akdülger, Mel...</td>\n",
              "      <td>Turkey</td>\n",
              "      <td>December 27, 2019</td>\n",
              "      <td>2019</td>\n",
              "      <td>TV-MA</td>\n",
              "      <td>1 Season</td>\n",
              "      <td>International TV Shows, TV Dramas, TV Mysteries</td>\n",
              "      <td>A painter in Istanbul embarks on a personal jo...</td>\n",
              "    </tr>\n",
              "    <tr>\n",
              "      <th>5287</th>\n",
              "      <td>81076251</td>\n",
              "      <td>Movie</td>\n",
              "      <td>Money Trap</td>\n",
              "      <td>Yılmaz Erdoğan</td>\n",
              "      <td>Yılmaz Erdoğan, Kıvanç Tatlıtuğ, Ezgi Mola, Be...</td>\n",
              "      <td>Turkey</td>\n",
              "      <td>April 26, 2019</td>\n",
              "      <td>2019</td>\n",
              "      <td>TV-MA</td>\n",
              "      <td>122 min</td>\n",
              "      <td>Comedies, Dramas, International Movies</td>\n",
              "      <td>When his daughter and son-in-law fall prey to ...</td>\n",
              "    </tr>\n",
              "    <tr>\n",
              "      <th>5752</th>\n",
              "      <td>81086462</td>\n",
              "      <td>TV Show</td>\n",
              "      <td>The Yard</td>\n",
              "      <td>NaN</td>\n",
              "      <td>Demet Evgar, Ceren Moray, Nursel Köse, Kenan E...</td>\n",
              "      <td>Turkey</td>\n",
              "      <td>November 15, 2019</td>\n",
              "      <td>2019</td>\n",
              "      <td>TV-MA</td>\n",
              "      <td>2 Seasons</td>\n",
              "      <td>Crime TV Shows, International TV Shows, TV Dramas</td>\n",
              "      <td>After a fateful domestic clash, a devoted moth...</td>\n",
              "    </tr>\n",
              "    <tr>\n",
              "      <th>6198</th>\n",
              "      <td>80189829</td>\n",
              "      <td>TV Show</td>\n",
              "      <td>The Protector</td>\n",
              "      <td>NaN</td>\n",
              "      <td>Çağatay Ulusoy, Ayça Ayşin Turan, Hazar Ergüçl...</td>\n",
              "      <td>Turkey</td>\n",
              "      <td>April 26, 2019</td>\n",
              "      <td>2019</td>\n",
              "      <td>TV-MA</td>\n",
              "      <td>2 Seasons</td>\n",
              "      <td>International TV Shows, Romantic TV Shows, TV ...</td>\n",
              "      <td>Discovering his ties to a secret ancient order...</td>\n",
              "    </tr>\n",
              "  </tbody>\n",
              "</table>\n",
              "</div>"
            ],
            "text/plain": [
              "       show_id  ...                                        description\n",
              "455   81158574  ...  A robbery leaves a proprietor penniless before...\n",
              "457   81132440  ...  When their fun in the park is threatened by a ...\n",
              "4329  81037848  ...  A painter in Istanbul embarks on a personal jo...\n",
              "5287  81076251  ...  When his daughter and son-in-law fall prey to ...\n",
              "5752  81086462  ...  After a fateful domestic clash, a devoted moth...\n",
              "6198  80189829  ...  Discovering his ties to a secret ancient order...\n",
              "\n",
              "[6 rows x 12 columns]"
            ]
          },
          "metadata": {
            "tags": []
          },
          "execution_count": 19
        }
      ]
    }
  ]
}