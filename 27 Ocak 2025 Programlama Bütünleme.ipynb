{
 "cells": [
  {
   "cell_type": "markdown",
   "metadata": {
    "id": "GGX9cofpK6PS"
   },
   "source": [
    "**T.C. Mersin Üniversitesi Mühendislik Fakültesi – Harita Mühendisliği Bölümü**\n",
    "\n",
    "2024-2025 Akademik Yılı Güz Dönemi\n",
    "\n",
    "Programlama – Bütünleme Sınavı – 27 Ocak 2025 Pazartesi\n",
    "\n",
    "Dosyanızı `İsim_Soyisim_Numara_Butunleme.ipynb` ismiyle kaydediniz ve caniban@mersin.edu.tr e-posta adresine saat 16:30'a kadar gönderiniz. Başarılar dilerim.\n",
    "\n",
    "Sınav Süresi: 90 dk\n",
    "\n",
    "Doç. Dr. Muzaffer Can İBAN"
   ]
  },
  {
   "cell_type": "markdown",
   "metadata": {
    "id": "b9kgHOErLd45"
   },
   "source": [
    "### Soru 1  (25 puan)\n",
    "Aşağıda rastgele üretilmiş `temp_array1` ve `temp_array2` numpy dizileri verilmiştir. Bu değerler, iki farklı lokasyonda son 30 yılda ölçülmüş ortalama yıllık sıcaklık (°C) değerleridir.\n",
    "\n",
    "Bu bilgileri kullanarak, 1990-2020 yılları arasında her lokasyonun sıcaklık değerlerinin zamansal değişimini aynı grafik üzerinde gösteriniz. Çizgi grafiği kullanınız. Lokasyon 1 için siyah, Lokasyon 2 için yeşil renk seçiniz. X ekseni yılları içermelidir ve bu yıllar 1990, 1995, 2000, 2005, 2010, 2015, 2020 şeklinde 5'er yıl atlamalıdır. Y ekseni ise 10 ila 30 arası 5'er 5'er atlamalıdır. Grafiğe uygun bir başlık ekleyiniz. Grafiğin hangi çizgisinin hangi lokasyona ait olduğunu gösteren lejantı da çerçevenin sağ üst köşesine koyunuz."
   ]
  },
  {
   "cell_type": "code",
   "execution_count": null,
   "metadata": {
    "id": "LcGHjZTYK4Mx"
   },
   "outputs": [],
   "source": [
    "# Burayı silmeyiniz ve doğrudan çalıştırınız.\n",
    "import numpy as np\n",
    "\n",
    "temp_array1 = np.random.uniform(15, 25, 30)  # Lokasyon 1 sıcaklık değerleri\n",
    "temp_array2 = np.random.uniform(16, 26, 30)  # Lokasyon 2 sıcaklık değerleri"
   ]
  },
  {
   "cell_type": "code",
   "execution_count": null,
   "metadata": {
    "id": "CAxYy4zOif3n"
   },
   "outputs": [],
   "source": [
    "# Çözümü bu hücreye yapınız."
   ]
  },
  {
   "cell_type": "markdown",
   "metadata": {
    "id": "oSmyg_y7ANl7"
   },
   "source": [
    "### Soru 2 (25 puan):\n",
    "Aşağıdaki bağlantıdan `landslide.csv` dosyasını indirip çalışma ortamına kaydediniz. Dosyayı veri çerçevesi olarak yükleyiniz.\n",
    "\n",
    "https://github.com/caniban/MEU_Makine_Ogrenmesi/blob/main/landslide.csv \n",
    "\n",
    "a) Veri seti içerisindeki `CLASS` sütununu veri çerçevesinden düşürünüz.\n",
    "\n",
    "b) Geri kalan sütunları kullanarak veri setinin korelasyon matrisine ait ısı haritasını çizdiriniz (Seaborn kütüphanesini kullanın!)\n",
    "\n",
    "c) Sütunların arasındaki korelasyonu yorumlayınız."
   ]
  },
  {
   "cell_type": "code",
   "execution_count": null,
   "metadata": {
    "id": "sykrpv12ALqO"
   },
   "outputs": [],
   "source": [
    "# Çözümü bu hücreye yapınız.\n"
   ]
  },
  {
   "cell_type": "markdown",
   "metadata": {
    "id": "P9plvlAiBV2s"
   },
   "source": [
    "## Soru 3 (25 puan)\n",
    "\n",
    "Bir e-ticaret sitesindeki ürünlerin fiyatlarını içeren bir liste aşağıda verilmiştir. Bu listeden fiyatı 50 TL ile 200 TL arasında olan ürünleri bulup, yeni bir listeye ekleyen ve bu yeni listedeki ürünlerin ortalama fiyatını hesaplayan bir Python programı yazınız.\n",
    "\n",
    "`urun_fiyatlari = [45, 60, 220, 75, 150, 30, 180, 90, 250]`\n",
    "\n"
   ]
  },
  {
   "cell_type": "code",
   "execution_count": null,
   "metadata": {
    "id": "xqB-u3NLDBBt"
   },
   "outputs": [],
   "source": [
    "# Çözümü bu hücreye yapınız.\n"
   ]
  },
  {
   "cell_type": "markdown",
   "metadata": {
    "id": "gIBAqIEFcxUf"
   },
   "source": [
    "## Soru 4 (25 puan)\n",
    "\n",
    "Aşağıda birinci temel ödeve ilişkin eşitlikler verilmiştir.\n",
    "\n",
    "\n",
    "\\begin{align*}\n",
    "Y_B &= Y_A + \\Delta Y = Y_A + S \\cdot \\sin{\\alpha} \\\\\n",
    "X_B &= X_A + \\Delta X = X_A + S \\cdot \\cos{\\alpha}\n",
    "\\end{align*}\n",
    "\n",
    "\n",
    "a) Bu eşitlikleri kullanarak, birinci temel ödeve ait fonksiyonu tasarlayınız. Fonksiyon A noktasının koordinatlarını, ara mesafeyi ve semt açısını kullanarak, B noktasının koordinatlarını hesaplamalıdır. Semt açısını fonksiyon içinde grad biriminden radyan birimine dönüştürmeniz gerektiğini unutmayınız.\n",
    "\n",
    "b) Aşağıda verilenlere göre $Y_B$ ve $X_B$ değerlerini, tasarladığınız fonksiyonla hesaplayınız.\n",
    "\n",
    "$$\n",
    "X_A = 200 \\text{ metre} \\\\\n",
    "Y_A = 300 \\text{ metre} \\\\\n",
    "S = 75 \\text{ metre} \\\\\n",
    "\\alpha = 60 \\text{ grad}\n",
    "$$\n",
    "\n"
   ]
  },
  {
   "cell_type": "code",
   "execution_count": null,
   "metadata": {
    "id": "odMQnttgbJmv"
   },
   "outputs": [],
   "source": [
    "# Çözümü bu hücreye yapınız."
   ]
  }
 ],
 "metadata": {
  "colab": {
   "provenance": []
  },
  "kernelspec": {
   "display_name": "Python 3",
   "language": "python",
   "name": "python3"
  },
  "language_info": {
   "codemirror_mode": {
    "name": "ipython",
    "version": 3
   },
   "file_extension": ".py",
   "mimetype": "text/x-python",
   "name": "python",
   "nbconvert_exporter": "python",
   "pygments_lexer": "ipython3",
   "version": "3.7.6"
  }
 },
 "nbformat": 4,
 "nbformat_minor": 1
}
