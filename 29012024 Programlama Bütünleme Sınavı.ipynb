{
 "cells": [
  {
   "cell_type": "markdown",
   "id": "7748da6a",
   "metadata": {},
   "source": [
    "<h2 align=\"center\">T.C. Mersin Üniversitesi</h1>\n",
    "<h2 align=\"center\">Mühendislik Fakültesi</h2>\n",
    "<h2 align=\"center\">Harita Mühendisliği Bölümü</h2>\n",
    "<h3 align=\"center\">Programlama Dersi</h3>\n",
    "<h4 align=\"center\">29 Ocak 2024 tarihli Bütünleme Soruları</h4>\n",
    "<h4 align=\"center\">Sınav süresi 60 dakikadır. Başarılar dilerim.</h4>\n",
    "<h4 align=\"center\">Doç. Dr. Muzaffer Can İBAN</h4>"
   ]
  },
  {
   "cell_type": "markdown",
   "id": "300bc468",
   "metadata": {},
   "source": [
    "### Soru 1 (30 puan)"
   ]
  },
  {
   "cell_type": "markdown",
   "id": "9a708a2d",
   "metadata": {},
   "source": [
    "İki meteoroloji istasyonu, 1970-2020 yılları arasında her yılın sonunda belirli bir saatte açık hava basıncını (Pascal cinsinden) ölçmektedir. Bu ölçümleri içeren numpy dizileri `basinc_verileri_istasyon1` ve `basinc_verileri_istasyon2` adlarıyla verilmiştir.Verilen bu veri dizilerini kullanarak, her iki istasyonun 1970-2020 yılları arasında yıllara göre açık hava basıncının zamansal değişimini aynı grafik üzerinde gösteriniz. Bu grafiği oluştururken istasyon 1 için kırmızı renkli düz çizgi, istasyon 2 için mavi renkli kesikli çizgi stili  kullanınız. X ekseni yılları içermelidir ve bu yıllar 1970, 1975... gibi 5'er 5'er atlamalıdır. Y ekseni ise 950 ila 1050 arası 10'ar 10'ar atlamalıdır. Grafiğe uygun başlığı yazdırınız. Grafiğin hangi çizginin hangi istasyona ait olduğunu gösteren lejantını çerçevenin sağ alt köşesine ekleyiniz."
   ]
  },
  {
   "cell_type": "code",
   "execution_count": 1,
   "id": "18984c96",
   "metadata": {},
   "outputs": [],
   "source": [
    "# BU KISMI SİLMEYİNİZ ve DOĞRUDAN ÇALIŞTIRINIZ\n",
    "import numpy as np\n",
    "import matplotlib.pyplot as plt\n",
    "\n",
    "# İstasyon 1 için açık hava basıncı verileri\n",
    "basinc_verileri_istasyon1 = np.random.randint(950, 1050, size=(50,))\n",
    "\n",
    "# İstasyon 2 için açık hava basıncı verileri\n",
    "basinc_verileri_istasyon2 = np.random.randint(950, 1050, size=(50,))"
   ]
  },
  {
   "cell_type": "code",
   "execution_count": 2,
   "id": "ea3b4f26",
   "metadata": {},
   "outputs": [],
   "source": [
    "# Çözümünüzü Buraya Yapınız\n"
   ]
  },
  {
   "cell_type": "markdown",
   "id": "f3e745c7",
   "metadata": {},
   "source": [
    "### Soru 2 (35 puan)"
   ]
  },
  {
   "cell_type": "markdown",
   "id": "41430267",
   "metadata": {},
   "source": [
    "Github Ünite 11'den `iris.csv` dosyasını indirip çalışma klasörünüze kaydediniz. \n",
    "\n",
    "\n",
    "a) Bu veri setini bir DataFrame olarak okuyun.\n",
    "\n",
    "b) DataFrame'in ilk 10 satırını gösterin.\n",
    "\n",
    "c) DataFrame'in özet istatistiklerini gösterin.\n",
    "\n",
    "d) `sepal length (cm)` sütununun ortalamasını, medyanını ve standart sapmasını gösterin.\n",
    "\n",
    "e) `species`  sütunundaki benzersiz (tekil) değerlerin sayısını gösterin.\n",
    "\n",
    "f) `species` sütununda `setosa` değerine sahip kaç satır bulunduğunu gösteriniz.\n",
    "\n",
    "g) `species` sütunundaki `setosa` değerine sahip satırların `sepal length (cm)` ortalamasını gösteriniz."
   ]
  },
  {
   "cell_type": "code",
   "execution_count": 3,
   "id": "c34c03c1",
   "metadata": {},
   "outputs": [],
   "source": [
    "# Çözümünüzü Buraya Yapınız\n"
   ]
  },
  {
   "cell_type": "markdown",
   "id": "e056ef1e",
   "metadata": {},
   "source": [
    "### Soru 3 (35 puan)"
   ]
  },
  {
   "cell_type": "markdown",
   "id": "4dda1f92",
   "metadata": {},
   "source": [
    "Bir Python fonksiyonu yazınız: `alan_hesapla`\n",
    "\n",
    "**Açıklama:**\n",
    "\n",
    "Bu fonksiyon, şeklin türünü belirleyen bir `sekil_ismi` ve şeklin ölçülerini belirleyen `olcu1` ve `olcu2` argümanlarını almalıdır.\n",
    "\n",
    "Eğer `sekil_ismi` **dikdörtgen** ise, `olcu1` ve `olcu2` değerlerini kullanarak dikdörtgenin alanını hesaplamalıdır.\n",
    "\n",
    "Eğer `sekil_ismi` **paralelkenar** ise, `olcu1` ve `olcu2` değerlerini kullanarak paralelkenarın alanını hesaplamalıdır.\n",
    "\n",
    "Eğer `sekil_ismi` **yamuk** ise, `olcu1`, `olcu2` ve `yukseklik` değerlerini kullanarak yamuğun alanını hesaplamalıdır.\n",
    "\n",
    "Fonksiyon, desteklenmeyen bir şekil sağlandığında bir `ValueError` hatası oluşturmalıdır."
   ]
  },
  {
   "cell_type": "code",
   "execution_count": 4,
   "id": "700cecfe",
   "metadata": {},
   "outputs": [],
   "source": [
    "# Çözümünüzü Buraya Yapınız.\n"
   ]
  }
 ],
 "metadata": {
  "kernelspec": {
   "display_name": "Python 3",
   "language": "python",
   "name": "python3"
  },
  "language_info": {
   "codemirror_mode": {
    "name": "ipython",
    "version": 3
   },
   "file_extension": ".py",
   "mimetype": "text/x-python",
   "name": "python",
   "nbconvert_exporter": "python",
   "pygments_lexer": "ipython3",
   "version": "3.8.8"
  }
 },
 "nbformat": 4,
 "nbformat_minor": 5
}
