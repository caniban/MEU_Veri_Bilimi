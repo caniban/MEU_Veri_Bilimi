{
 "cells": [
  {
   "cell_type": "markdown",
   "id": "361dc2a3-8bc2-4c16-85a0-bf298fe3148c",
   "metadata": {},
   "source": [
    "<div align=\"center\">\n",
    "\n",
    "## **T.C. MERSİN ÜNİVERSİTESİ**  \n",
    "### **Mühendislik Fakültesi – Harita Mühendisliği Bölümü**\n",
    "\n",
    "---\n",
    "\n",
    "### **2024–2025 Akademik Yılı Güz Dönemi**  \n",
    "### **1603006 Programlama Dersi – Quiz Sınavı**  \n",
    "📅 **24 Ekim 2024**\n",
    "\n",
    "---\n",
    "\n",
    "</div>\n",
    "\n",
    "🧾 **Dosya Adı Formatı:**  \n",
    "$\n",
    "\\texttt{İsim\\_Soyisim\\_Numara\\_Quiz.ipynb}\n",
    "$\n",
    "\n",
    "📧 **E-posta Gönderimi:**  \n",
    "Sınav süresi bitmeden dosyanızı şu adrese gönderiniz:  \n",
    "👉 **caniban@mersin.edu.tr**\n",
    "\n",
    "E-postanın **konu kısmına** da aynı şekilde yazınız:  \n",
    "$\n",
    "\\texttt{İsim\\_Soyisim\\_Numara\\_Quiz}\n",
    "$\n",
    "\n",
    "⚠️ **Dikkat Ediniz:**  \n",
    "- Bulut bağlantısı (Google Drive, OneDrive vb.) **kabul edilmez.**  \n",
    "- Dosyanızı **Colab’tan indirip doğrudan e-posta eki** olarak gönderiniz.  \n",
    "- **Süre:** ⏱️ 45 dakika  \n",
    "- **Üretken yapay zeka kullanımı kesinlikle yasaktır.**\n",
    "\n",
    "---\n",
    "\n",
    "🎯 **İlgili Öğrenme Çıktısı:**  \n",
    "**Ö.Ç. 1:** Python programlama dilinin temel çalışma anlayışını kavrar.\n",
    "\n",
    "---\n",
    "\n",
    "<div align=\"right\">\n",
    "\n",
    "**Doç. Dr. Muzaffer Can İBAN**\n",
    "\n",
    "</div>\n"
   ]
  },
  {
   "cell_type": "markdown",
   "id": "1d8b03d0-0849-4232-aef8-ab8e1a9f25ae",
   "metadata": {},
   "source": [
    "### Soru 1\n",
    "\n",
    "Bir hedef noktasına yapılan atışların koordinatları 5 kez ölçülmüştür.  \n",
    "Hedef noktasının bilinen koordinatı:\n",
    "\n",
    "$\n",
    "L_{\\text{gerçek}} = 100.0\n",
    "$\n",
    "\n",
    "Aşağıdaki NumPy dizisinde verilen 5 adet ölçülen değeri kullanarak,  \n",
    "$( L_{\\text{gerçek}} )$ değerine göre **Kök Karesel Ortalama Hata (KKOH)** hesaplayınız.\n",
    "\n",
    "**Formül:**\n",
    "\n",
    "\n",
    "KKOH = $\\sqrt{\\frac{\\sum_{i=1}^{n} (L_i - L_{\\text{gerçek}})^2}{n}}$\n",
    "\n",
    "\n",
    "**Kullanılacak fonksiyonlar:** `np.power`, `np.sum`, `math.sqrt`\n",
    "\n",
    "\n",
    "**Ölçülen değerler**\n",
    "[99.8, 100.5, 100.2, 99.9, 100.1]\n",
    "\n",
    "\n"
   ]
  },
  {
   "cell_type": "code",
   "execution_count": null,
   "id": "fff62f9e-971e-4a9c-8ca5-2032b828bbad",
   "metadata": {},
   "outputs": [],
   "source": [
    "# Soru 1'in çözümünü buraya yapınız."
   ]
  },
  {
   "cell_type": "markdown",
   "id": "fc44d5c4-1aab-4a41-af8d-ac97ef41d006",
   "metadata": {},
   "source": [
    "### Soru 2\n",
    "\n",
    "Bir araç, sabit hızla \\( V = 60 $\\text{km/saat}$ hızla hareket etmektedir.  \n",
    "\n",
    "Aşağıdaki dizide verilen farklı zaman aralıklarında (saat cinsinden) aracın başlangıç noktasına göre aldığı yolu (konumu) hesaplayınız.\n",
    "\n",
    "**Formül:**\n",
    "\n",
    "$\n",
    "X = V \\cdot t\n",
    "$\n",
    "\n",
    "\n",
    "\n",
    "**Zaman aralıkları (saat cinsinden)**\n",
    "[0.5, 1, 1.5, 2, 2.5]\n",
    "\n",
    "**Hız (km/saat)**\n",
    "V = 60\n",
    "\n"
   ]
  },
  {
   "cell_type": "code",
   "execution_count": null,
   "id": "9d16a5ee-6e4c-486a-8b29-109b235de7cf",
   "metadata": {},
   "outputs": [],
   "source": [
    "# Soru 2'nin çözümünü buraya yapınız."
   ]
  },
  {
   "cell_type": "markdown",
   "id": "e51ab5cc-451c-4dd9-aecf-103a15eddbaf",
   "metadata": {},
   "source": [
    "### Soru 3\n",
    "\n",
    "Düzlemde sabit bir nokta $ P_1 = (5, 10) $ verilmiştir.  \n",
    "Ayrıca aşağıdaki NumPy dizilerinde koordinatları verilen 4 adet nokta $ P_2 = (x_2, y_2) $ bulunmaktadır.  \n",
    "\n",
    "$ P_1 $ ve her bir $ P_2 $ noktası arasındaki **Öklid uzaklığını** hesaplayınız.\n",
    "\n",
    "**Öklid Uzaklık Formülü:**\n",
    "\n",
    "$\n",
    "d = \\sqrt{(x_2 - x_1)^2 + (y_2 - y_1)^2}\n",
    "$\n",
    "\n",
    "\n",
    "#### Diğer noktalar (P2)\n",
    "x = [2, 8, 6, 5]\n",
    "\n",
    "y= [3, 10, 14, 7]\n"
   ]
  },
  {
   "cell_type": "code",
   "execution_count": 1,
   "id": "53916f7c-050d-4a4c-a009-ced6fdd32885",
   "metadata": {},
   "outputs": [],
   "source": [
    "#Soru 3'ün çözümünü buraya yapınız. "
   ]
  }
 ],
 "metadata": {
  "kernelspec": {
   "display_name": "Python [conda env:base] *",
   "language": "python",
   "name": "conda-base-py"
  },
  "language_info": {
   "codemirror_mode": {
    "name": "ipython",
    "version": 3
   },
   "file_extension": ".py",
   "mimetype": "text/x-python",
   "name": "python",
   "nbconvert_exporter": "python",
   "pygments_lexer": "ipython3",
   "version": "3.13.5"
  }
 },
 "nbformat": 4,
 "nbformat_minor": 5
}
