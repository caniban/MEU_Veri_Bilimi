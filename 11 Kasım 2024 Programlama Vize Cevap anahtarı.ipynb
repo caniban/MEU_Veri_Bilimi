{
 "cells": [
  {
   "cell_type": "markdown",
   "metadata": {},
   "source": [
    "**T.C. Mersin Üniversitesi Mühendislik Fakültesi – Harita Mühendisliği Bölümü**\n",
    "\n",
    "2024-2025 Akademik Yılı Güz Dönemi\n",
    "\n",
    "1603006 Programlama Dersi – Ara Sınavı – 11 Kasım 2024\n",
    "\n",
    "Dosyanızı **İsim_Soyisim_Numara_AraSinav.ipynb** ismiyle kaydediniz ve caniban@mersin.edu.tr adresine sınav süresi dolmadan e-posta gönderiniz. E-postanızın konu kısmına da **İsim_Soyisim_Numara_AraSinav** yazınız. Buluttan bağlantı vermeyiniz. Doğrudan .ipynb dosyanızı Colab'tan masaüstüne indirip, e-posta eki olarak gönderiniz.\n",
    "\n",
    "Süre 75 dakikadır. Üretken yapay zeka kullanımı yasaktır. \n",
    "\n",
    "Doç. Dr. Muzaffer Can İBAN"
   ]
  },
  {
   "cell_type": "markdown",
   "metadata": {},
   "source": [
    "**Soru 1:** 0'dan 8'e kadar rakamlardan oluşan 3x3'lük bir matris oluşturunuz (10 puan)"
   ]
  },
  {
   "cell_type": "code",
   "execution_count": 1,
   "metadata": {},
   "outputs": [
    {
     "name": "stdout",
     "output_type": "stream",
     "text": [
      "3x3'lük Matris:\n",
      "[[0 1 2]\n",
      " [3 4 5]\n",
      " [6 7 8]]\n"
     ]
    }
   ],
   "source": [
    "import numpy as np\n",
    "matris = np.arange(9).reshape(3, 3)\n",
    "print(\"3x3'lük Matris:\")\n",
    "print(matris)"
   ]
  },
  {
   "cell_type": "markdown",
   "metadata": {},
   "source": [
    "**Soru 2:** Kullanıcıdan $x$, $y$ ve $z$ değerlerini input olarak istedikten sonra aşağıdaki formülün çözümünü yapınız ve sonucu ekrana yazdırınız. \n",
    "$$(x + y) \\cdot z - \\frac{x}{y}$$\n",
    "\n",
    "(10 puan)"
   ]
  },
  {
   "cell_type": "code",
   "execution_count": 2,
   "metadata": {},
   "outputs": [
    {
     "name": "stdout",
     "output_type": "stream",
     "text": [
      "x değerini giriniz: 6\n",
      "y değerini giriniz: 4\n",
      "z değerini giriniz: 3\n",
      "Sonuç: 28.5\n"
     ]
    }
   ],
   "source": [
    "# Kullanıcıdan x, y ve z değerlerini al\n",
    "x = float(input(\"x değerini giriniz: \"))\n",
    "y = float(input(\"y değerini giriniz: \"))\n",
    "z = float(input(\"z değerini giriniz: \"))\n",
    "\n",
    "# Formülü hesapla\n",
    "sonuc = (x + y) * z - (x / y)\n",
    "\n",
    "# Sonucu ekrana yazdır\n",
    "print(\"Sonuç:\", sonuc)"
   ]
  },
  {
   "cell_type": "markdown",
   "metadata": {},
   "source": [
    "**Soru 3:** Kullanıcıdan bir sayı girmesini isteyip bunu ondalık sayı, tam sayı ve karmaşık sayı türlerine sırayla dönüştüren bir Python programı yazınız. (15 puan)"
   ]
  },
  {
   "cell_type": "code",
   "execution_count": 3,
   "metadata": {},
   "outputs": [
    {
     "name": "stdout",
     "output_type": "stream",
     "text": [
      "Bir sayı giriniz: 12.6\n",
      "Tam sayı: 12\n",
      "Ondalık sayı: 12.6\n",
      "Karmaşık sayı: (12.6+0j)\n"
     ]
    }
   ],
   "source": [
    "# Kullanıcıdan bir sayı girmesini iste\n",
    "sayi = input(\"Bir sayı giriniz: \")\n",
    "\n",
    "# Sayıyı farklı veri türlerine dönüştürme\n",
    "tam_sayi = int(float(sayi))  # Float olarak alıp int'e çevirerek tam sayı yapıyoruz\n",
    "ondalik_sayi = float(sayi)\n",
    "karmaşık_sayi = complex(sayi)\n",
    "\n",
    "# Sonuçları ekrana yazdır\n",
    "print(\"Tam sayı:\", tam_sayi)\n",
    "print(\"Ondalık sayı:\", ondalik_sayi)\n",
    "print(\"Karmaşık sayı:\", karmaşık_sayi)"
   ]
  },
  {
   "cell_type": "markdown",
   "metadata": {},
   "source": [
    "**Soru 4:** Bir dikdörtgen prizma şeklindeki tankın uzunluğu 8 metre, genişliği 6 metre ve yüksekliği 3 metredir. Tankın %75’i doludur. Saatte 20 metreküp su tahliye edebilen bir pompa ile tank tamamen boşaltılacaktır. Bu işlemin ne kadar süreceğini hesaplayan bir program yazınız (25 puan)."
   ]
  },
  {
   "cell_type": "code",
   "execution_count": 4,
   "metadata": {},
   "outputs": [
    {
     "name": "stdout",
     "output_type": "stream",
     "text": [
      "Tankı tamamen boşaltmak için gereken süre: 5.4 saat\n"
     ]
    }
   ],
   "source": [
    "# Tankın hacmini hesaplayalım\n",
    "uzunluk = 8  # metre\n",
    "genislik = 6  # metre\n",
    "yukseklik = 3  # metre\n",
    "toplam_hacim = uzunluk * genislik * yukseklik  # metreküp\n",
    "\n",
    "# Doluluk oranı\n",
    "dolu_hacim = toplam_hacim * 0.75  # metreküp\n",
    "\n",
    "# Pompa kapasitesi\n",
    "pompa_kapasitesi = 20  # metreküp/saat\n",
    "\n",
    "# Gerekli zamanı hesaplayalım\n",
    "gereken_sure = dolu_hacim / pompa_kapasitesi\n",
    "print(\"Tankı tamamen boşaltmak için gereken süre:\", gereken_sure, \"saat\")"
   ]
  },
  {
   "cell_type": "markdown",
   "metadata": {},
   "source": [
    "**Soru 5:** Aşağıdaki süpermarket zincirlerini içeren bir liste oluşturun:\n",
    "\n",
    "`\"metro\", \"tesco\", \"walmart\", \"kmart\", \"carrefour\"`\n",
    "\n",
    "\n",
    "Listeye `\"lidl\"` ve `\"aldi\"` süpermarketlerini append yöntemi ile ekleyin ve tüm marketleri alfabetik sıraya göre ekrana yazdırın. (10 puan)"
   ]
  },
  {
   "cell_type": "code",
   "execution_count": 5,
   "metadata": {},
   "outputs": [
    {
     "name": "stdout",
     "output_type": "stream",
     "text": [
      "Alfabetik sıraya göre süpermarket zincirleri: ['aldi', 'carrefour', 'kmart', 'lidl', 'metro', 'tesco', 'walmart']\n"
     ]
    }
   ],
   "source": [
    "# Süpermarket zincirlerini içeren liste\n",
    "supermarkets = [\"metro\", \"tesco\", \"walmart\", \"kmart\", \"carrefour\"]\n",
    "\n",
    "# Listeye \"lidl\" ve \"aldi\" marketlerini ekleme\n",
    "supermarkets.append(\"lidl\")\n",
    "supermarkets.append(\"aldi\")\n",
    "\n",
    "# Listeyi alfabetik sıraya göre sıralama\n",
    "supermarkets.sort()\n",
    "\n",
    "# Sonucu ekrana yazdırma\n",
    "print(\"Alfabetik sıraya göre süpermarket zincirleri:\", supermarkets)\n"
   ]
  },
  {
   "cell_type": "markdown",
   "metadata": {},
   "source": [
    "**Soru 6:** Aşağıdaki tabloda, bazı gerçek değerler ve bu değerler için hesaplanan tahmini değerler verilmiştir. Gerçek Değer ve Hesaplanan Değer arasındaki kök karesel ortalama hatayı NumPy ile hesaplayacak bir Python programı yazınız (30 puan).\n",
    "\n",
    "| Gerçek Değer | Hesaplanan Değer |\n",
    "|--------------|------------------|\n",
    "| 100000       | 98521           |\n",
    "| 200000       | 204572          |\n",
    "| 300000       | 299637          |\n",
    "| 400000       | 412781          |\n",
    "| 500000       | 503469          |\n",
    "| 600000       | 598601          |\n",
    "\n",
    "\n",
    "$\n",
    "KKOH = \\sqrt{\\frac{1}{n} \\sum_{i=1}^{n} (y_i - \\hat{y}_i)^2}\n",
    "$\n",
    "\n",
    "Burada:\n",
    "\n",
    "$y_i $ gerçek değerleri,\n",
    "\n",
    "$ \\hat{y}_i $ hesaplanan değerleri,\n",
    "\n",
    "$ n $ ise toplam veri sayısını temsil eder."
   ]
  },
  {
   "cell_type": "code",
   "execution_count": 6,
   "metadata": {},
   "outputs": [
    {
     "name": "stdout",
     "output_type": "stream",
     "text": [
      "Kök Karesel Ortalama Hata (KKOH): 5781.688291494103\n"
     ]
    }
   ],
   "source": [
    "import numpy as np\n",
    "\n",
    "# Gerçek değerler ve hesaplanan değerler\n",
    "gercek_degerler = np.array([100000, 200000, 300000, 400000, 500000, 600000])\n",
    "hesaplanan_degerler = np.array([98521, 204572, 299637, 412781, 503469, 598601])\n",
    "\n",
    "# KKOH formülünü uygulayalım\n",
    "# (Gerçek Değerler - Hesaplanan Değerler) karelerinin ortalamasını alıp, sonra karekökünü alıyoruz.\n",
    "kareler_farki = (gercek_degerler - hesaplanan_degerler) ** 2\n",
    "ortalama_kare_farki = np.mean(kareler_farki)\n",
    "kkoh = np.sqrt(ortalama_kare_farki)\n",
    "\n",
    "# Sonucu yazdıralım\n",
    "print(f\"Kök Karesel Ortalama Hata (KKOH): {kkoh}\")\n"
   ]
  }
 ],
 "metadata": {
  "kernelspec": {
   "display_name": "Python 3",
   "language": "python",
   "name": "python3"
  },
  "language_info": {
   "codemirror_mode": {
    "name": "ipython",
    "version": 3
   },
   "file_extension": ".py",
   "mimetype": "text/x-python",
   "name": "python",
   "nbconvert_exporter": "python",
   "pygments_lexer": "ipython3",
   "version": "3.7.6"
  }
 },
 "nbformat": 4,
 "nbformat_minor": 5
}
