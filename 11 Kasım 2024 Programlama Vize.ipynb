{
 "cells": [
  {
   "cell_type": "markdown",
   "metadata": {},
   "source": [
    "**T.C. Mersin Üniversitesi Mühendislik Fakültesi – Harita Mühendisliği Bölümü**\n",
    "\n",
    "2024-2025 Akademik Yılı Güz Dönemi\n",
    "\n",
    "1603006 Programlama Dersi – Ara Sınavı – 11 Kasım 2024 \n",
    "\n",
    "Dosyanızı **İsim_Soyisim_Numara_AraSinav.ipynb** ismiyle kaydediniz ve caniban@mersin.edu.tr adresine sınav süresi dolmadan e-posta gönderiniz. E-postanızın konu kısmına da **İsim_Soyisim_Numara_AraSinav** yazınız. Buluttan bağlantı vermeyiniz. Doğrudan .ipynb dosyanızı Colab'tan masaüstüne indirip, e-posta eki olarak gönderiniz.\n",
    "\n",
    "Süre 75 dakikadır. Üretken yapay zeka kullanımı yasaktır. \n",
    "\n",
    "Doç. Dr. Muzaffer Can İBAN"
   ]
  },
  {
   "cell_type": "markdown",
   "metadata": {},
   "source": [
    "**Soru 1:** 0'dan 8'e kadar rakamlardan oluşan 3x3'lük bir matris oluşturunuz (10 puan)"
   ]
  },
  {
   "cell_type": "code",
   "execution_count": 1,
   "metadata": {},
   "outputs": [],
   "source": [
    "# Cevabınızı buraya giriniz"
   ]
  },
  {
   "cell_type": "markdown",
   "metadata": {},
   "source": [
    "**Soru 2:** Kullanıcıdan $x$, $y$ ve $z$ değerlerini input olarak istedikten sonra aşağıdaki formülün çözümünü yapınız ve sonucu ekrana yazdırınız. \n",
    "$$(x + y) \\cdot z - \\frac{x}{y}$$\n",
    "\n",
    "(10 puan)"
   ]
  },
  {
   "cell_type": "code",
   "execution_count": 2,
   "metadata": {},
   "outputs": [],
   "source": [
    "# Cevabınızı buraya giriniz"
   ]
  },
  {
   "cell_type": "markdown",
   "metadata": {},
   "source": [
    "**Soru 3:** Kullanıcıdan bir sayı girmesini isteyip bunu ondalık sayı, tam sayı ve karmaşık sayı türlerine sırayla dönüştüren bir Python programı yazınız. (15 puan)"
   ]
  },
  {
   "cell_type": "code",
   "execution_count": 3,
   "metadata": {},
   "outputs": [],
   "source": [
    "# Cevabınızı buraya giriniz"
   ]
  },
  {
   "cell_type": "markdown",
   "metadata": {},
   "source": [
    "**Soru 4:** Bir dikdörtgen prizma şeklindeki tankın uzunluğu 8 metre, genişliği 6 metre ve yüksekliği 3 metredir. Tankın %75’i doludur. Saatte 20 metreküp su tahliye edebilen bir pompa ile tank tamamen boşaltılacaktır. Bu işlemin ne kadar süreceğini hesaplayan bir program yazınız (25 puan)."
   ]
  },
  {
   "cell_type": "code",
   "execution_count": 4,
   "metadata": {},
   "outputs": [],
   "source": [
    "# Cevabınızı buraya giriniz"
   ]
  },
  {
   "cell_type": "markdown",
   "metadata": {},
   "source": [
    "**Soru 5:** Aşağıdaki süpermarket zincirlerini içeren bir liste oluşturun:\n",
    "\n",
    "`\"metro\", \"tesco\", \"walmart\", \"kmart\", \"carrefour\"`\n",
    "\n",
    "\n",
    "Listeye `\"lidl\"` ve `\"aldi\"` süpermarketlerini append yöntemi ile ekleyin ve tüm marketleri alfabetik sıraya göre ekrana yazdırın. (10 puan)"
   ]
  },
  {
   "cell_type": "code",
   "execution_count": 5,
   "metadata": {},
   "outputs": [],
   "source": [
    "# Cevabınızı buraya giriniz\n"
   ]
  },
  {
   "cell_type": "markdown",
   "metadata": {},
   "source": [
    "**Soru 6:** Aşağıdaki tabloda, bazı gerçek değerler ve bu değerler için hesaplanan tahmini değerler verilmiştir. Gerçek Değer ve Hesaplanan Değer arasındaki kök karesel ortalama hatayı NumPy ile hesaplayacak bir Python programı yazınız (30 puan).\n",
    "\n",
    "| Gerçek Değer | Hesaplanan Değer |\n",
    "|--------------|------------------|\n",
    "| 100000       | 98521           |\n",
    "| 200000       | 204572          |\n",
    "| 300000       | 299637          |\n",
    "| 400000       | 412781          |\n",
    "| 500000       | 503469          |\n",
    "| 600000       | 598601          |\n",
    "\n",
    "\n",
    "$\n",
    "KKOH = \\sqrt{\\frac{1}{n} \\sum_{i=1}^{n} (y_i - \\hat{y}_i)^2}\n",
    "$\n",
    "\n",
    "Burada:\n",
    "\n",
    "$y_i $ gerçek değerleri,\n",
    "\n",
    "$ \\hat{y}_i $ hesaplanan değerleri,\n",
    "\n",
    "$ n $ ise toplam veri sayısını temsil eder."
   ]
  },
  {
   "cell_type": "code",
   "execution_count": 6,
   "metadata": {},
   "outputs": [],
   "source": [
    "# Cevabınızı buraya giriniz"
   ]
  }
 ],
 "metadata": {
  "kernelspec": {
   "display_name": "Python 3",
   "language": "python",
   "name": "python3"
  },
  "language_info": {
   "codemirror_mode": {
    "name": "ipython",
    "version": 3
   },
   "file_extension": ".py",
   "mimetype": "text/x-python",
   "name": "python",
   "nbconvert_exporter": "python",
   "pygments_lexer": "ipython3",
   "version": "3.7.6"
  }
 },
 "nbformat": 4,
 "nbformat_minor": 5
}
