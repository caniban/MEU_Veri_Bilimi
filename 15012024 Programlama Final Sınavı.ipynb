{
 "cells": [
  {
   "cell_type": "markdown",
   "id": "7748da6a",
   "metadata": {},
   "source": [
    "<h2 align=\"center\">T.C. Mersin Üniversitesi</h1>\n",
    "<h2 align=\"center\">Mühendislik Fakültesi</h2>\n",
    "<h2 align=\"center\">Harita Mühendisliği Bölümü</h2>\n",
    "<h3 align=\"center\">Programlama Dersi</h3>\n",
    "<h4 align=\"center\">15 Ocak 2024 tarihli Final Soruları</h4>\n",
    "<h4 align=\"center\">Sınav süresi 90 dakikadır. Başarılar dilerim.</h4>\n",
    "<h4 align=\"center\">Doç. Dr. Muzaffer Can İBAN</h4>"
   ]
  },
  {
   "cell_type": "markdown",
   "id": "300bc468",
   "metadata": {},
   "source": [
    "### Soru 1 (25 puan)"
   ]
  },
  {
   "cell_type": "markdown",
   "id": "9a708a2d",
   "metadata": {},
   "source": [
    "Aşağıda Türkiye ve İspanya'nın numpy dizileri verilmiştir. Bu diziler, her iki ülkenin 2000 ve 2020 yılları arasındaki 25-40 yaş arasındaki nüfusun yıllara göre oranlarını içermektedir.\n",
    "\n",
    "Bu bilgileri kullanarak, verilen tarihler arasında her iki ülkenin 25-40 yaş aralığındaki nüfus oranının zamansal değişimini aynı grafik üzerinde gösteriniz. Çizgi grafik kullanınız. Türkiye grafiği için yeşil, İspanya grafiği için mor renk seçiniz. X ekseni yılları içermelidir ve bu yıllar 2005, 2010, 2015 gibi 5'er 5'er atlamalıdır. Y ekseni ise 15 ila 45 arası 3'er 3'er atlamalıdır. Grafiğe uygun başlığı yazdırınız. Grafiğin hangi çizgisinin hangi ülkeye ait olduğunu gösteren lejantını da çerçevenin sağ alt köşesine koyunuz. X ekseni ve Y ekseni isimleri, grafikten 20 punto uzaklıkta olsun. Grafik başlığı, grafikten 25 punto uzaklıkta olsun. "
   ]
  },
  {
   "cell_type": "code",
   "execution_count": 1,
   "id": "a739e1cb",
   "metadata": {},
   "outputs": [],
   "source": [
    "#Burayı silmeyiniz ve doğrudan çalıştırınız. \n",
    "import numpy as np\n",
    "\n",
    "turkiye = np.array([27.8, 28.2, 29.4, 30.1, 31.5, 32.2, 32.9, 33.5, 34.1, 35.2, 36.5, 37.9, 38.6, 39.1, 39.9, 40.8, 41.6, 42.3, 43.9, 44.3])\n",
    "ispanya = np.array([26.3, 27.1, 28.0, 29.2, 30.5, 31.8, 32.5, 33.2, 34.0, 35.2, 36.5, 37.3, 38.0, 38.8, 39.5, 40.2, 40.7, 41.2, 41.8, 42.3])"
   ]
  },
  {
   "cell_type": "code",
   "execution_count": 2,
   "id": "aaeea30b",
   "metadata": {},
   "outputs": [],
   "source": [
    "# Çözümünüzü Buraya Yapınız"
   ]
  },
  {
   "cell_type": "markdown",
   "id": "f3e745c7",
   "metadata": {},
   "source": [
    "### Soru 2 (15 puan)"
   ]
  },
  {
   "cell_type": "markdown",
   "id": "41430267",
   "metadata": {},
   "source": [
    "Github Ünite 11'den `iris.csv` dosyasını indirip çalışma klasörünüze kaydediniz. Veri setindeki `sepal width (cm)` sütunundaki değerlerin kutu grafiğini çizdiriniz. Grafiğin başlığını \"Çanak Yaprak Genişliği Dağılımı\" olarak belirtiniz. X ekseni için \"Çanak Yaprak Genişliği (cm)\" ve Y ekseni için \"Değerler\" etiketlerini kullanınız."
   ]
  },
  {
   "cell_type": "code",
   "execution_count": 3,
   "id": "c34c03c1",
   "metadata": {},
   "outputs": [],
   "source": [
    "# Çözümünüzü Buraya Yapınız\n"
   ]
  },
  {
   "cell_type": "markdown",
   "id": "e056ef1e",
   "metadata": {},
   "source": [
    "### Soru 3 (15 puan)"
   ]
  },
  {
   "cell_type": "markdown",
   "id": "4dda1f92",
   "metadata": {},
   "source": [
    "Github Ünite 11'den `iris.csv` dosyasını indirip çalışma klasörünüze kaydediniz. Veri setindeki `petal length (cm)`  sütununun maksimum, minimum, standart sapma ve ortalamasını hesaplayarak gösteriniz.\n",
    "\n",
    "Not: describe() yöntemini kullanmayınız. İstenen değerlere ait fonksiyonları kullanarak hesaplamanızı yapınız. "
   ]
  },
  {
   "cell_type": "code",
   "execution_count": 4,
   "id": "700cecfe",
   "metadata": {},
   "outputs": [],
   "source": [
    "# Çözümünüzü Buraya Yapınız."
   ]
  },
  {
   "cell_type": "markdown",
   "id": "e9ff948b",
   "metadata": {},
   "source": [
    "### Soru 4 (15 puan)"
   ]
  },
  {
   "cell_type": "markdown",
   "id": "32cbc38f",
   "metadata": {},
   "source": [
    "Bir üçgenin üç kenar uzunluğunu kullanarak bu üçgenin alanını hesaplayan bir fonksiyon tasarlayınız. Kullanıcının bu üç kenar uzunluğunu argüman olarak girmesi beklenir. Eğer kullanıcı eksik argüman girerse, bu kenar uzunluklarını sırasıyla 3, 4 ve 5 olarak alan sabit (default) argümanları oluşturunuz.\n",
    "\n",
    "Not: Üç kenarının uzunluğu bilinen üçgenin alanının formülünü kullanınız."
   ]
  },
  {
   "cell_type": "code",
   "execution_count": 5,
   "id": "141fe72d",
   "metadata": {},
   "outputs": [],
   "source": [
    "# Çözümünüzü Buraya Yapınız"
   ]
  },
  {
   "cell_type": "markdown",
   "id": "c925c8ae",
   "metadata": {},
   "source": [
    "### Soru 5 (30 puan)"
   ]
  },
  {
   "cell_type": "markdown",
   "id": "ab8732b9",
   "metadata": {},
   "source": [
    "Bir harita üzerinde A noktasının bilinen koordinatlarını ve A noktasından B noktasına ölçülen semt açısı (grad cinsinden) ile mesafe okumasını kullanıcıdan isteyiniz. B noktasının koordinatını hesaplayan bir fonksiyon tasarlayınız. \n",
    "\n",
    "Not: Fonksiyon, hesapların hassasiyetini virgülden sonra iki basamak olacak şekilde vermelidir. "
   ]
  },
  {
   "cell_type": "code",
   "execution_count": 6,
   "id": "5e8ee98a",
   "metadata": {},
   "outputs": [],
   "source": [
    "# Çözümünüzü Buraya Yapınız"
   ]
  }
 ],
 "metadata": {
  "kernelspec": {
   "display_name": "Python 3",
   "language": "python",
   "name": "python3"
  },
  "language_info": {
   "codemirror_mode": {
    "name": "ipython",
    "version": 3
   },
   "file_extension": ".py",
   "mimetype": "text/x-python",
   "name": "python",
   "nbconvert_exporter": "python",
   "pygments_lexer": "ipython3",
   "version": "3.8.8"
  }
 },
 "nbformat": 4,
 "nbformat_minor": 5
}
