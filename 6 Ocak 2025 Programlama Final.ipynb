{
  "nbformat": 4,
  "nbformat_minor": 0,
  "metadata": {
    "colab": {
      "provenance": []
    },
    "kernelspec": {
      "name": "python3",
      "display_name": "Python 3"
    },
    "language_info": {
      "name": "python"
    }
  },
  "cells": [
    {
      "cell_type": "markdown",
      "source": [
        "**T.C. Mersin Üniversitesi Mühendislik Fakültesi – Harita Mühendisliği Bölümü**\n",
        "\n",
        "2024-2025 Akademik Yılı Güz Dönemi\n",
        "\n",
        "Programlama – Final Sınavı – 6 Ocak 2023 Perşembe\n",
        "\n",
        "Dosyanızı `İsim_Soyisim_Numara_Final.ipynb` ismiyle kaydediniz ve caniban@mersin.edu.tr e-posta adresine saat 14:30'a kadar gönderiniz. Başarılar dilerim.\n",
        "\n",
        "Sınav Süresi: 90 dk\n",
        "\n",
        "Doç. Dr. Muzaffer Can İBAN"
      ],
      "metadata": {
        "id": "GGX9cofpK6PS"
      }
    },
    {
      "cell_type": "markdown",
      "source": [
        "### Soru 1  (25 puan)\n",
        "Aşağıda rastgele üretilmiş `array1` ve `array2` numpy dizileri verilmiştir. Bu değerler, iki farklı lokasyonda son 50 yılda ölçülmüş açık hava basıncı (Pascal) değerleridir.\n",
        "\n",
        "Bu bilgileri kullanarak,\n",
        "Verilen 1970-2020 yılları her lokasyonun açık hava basıncı değerlerinin zamansal değişimini aynı grafik üzerinde gösteriniz. Saçılım grafiği kullanınız. Lokasyon 1 için kırmızı, Lokasyon 2 için grafiği için mavi renk seçiniz. X ekseni yılları içermelidir ve bu yıllar 1970, 1975... gibi 5'er 5'er atlamalıdır. Y ekseni ise 900 ila 1600 arası 100'er 100'er atlamalıdır. Grafiğe uygun başlığı yazdırınız. Grafiğin hangi çizgisinin hangi lokasyona ait olduğunu gösteren lejantını da çerçevenin sol alt köşesine koyunuz."
      ],
      "metadata": {
        "id": "b9kgHOErLd45"
      }
    },
    {
      "cell_type": "code",
      "execution_count": 6,
      "metadata": {
        "id": "LcGHjZTYK4Mx"
      },
      "outputs": [],
      "source": [
        "#Burayı silmeyiniz ve doğrudan çalıştırınız.\n",
        "import numpy as np\n",
        "\n",
        "array_1 = np.random.randint(1000, 1500, 50)\n",
        "array_2 = np.random.randint(1000, 1500, 50)"
      ]
    },
    {
      "cell_type": "code",
      "source": [
        "# Çözümü bu hücreye yapınız."
      ],
      "metadata": {
        "id": "CAxYy4zOif3n"
      },
      "execution_count": 7,
      "outputs": []
    },
    {
      "cell_type": "markdown",
      "source": [
        "### Soru 2 (25 puan):\n",
        "Github Ünite 11'den `demo.xlsx` dosyasını indirip çalışma ortamına kaydediniz. Dosyayı veri çerçevesi olarak yükleyiniz.\n",
        "\n",
        "a) Veri seti içerisindeki `Envanter` sütununu veri çerçevesinden düşürünüz.\n",
        "\n",
        "b) Geri kalan sütunları kullanarak veri setinin korelasyon matrisine ait ısı haritasını çizdiriniz (Seaborn kütüphanesini kullanın!)\n",
        "\n",
        "c) Sütunların arasındaki korelasyonu yorumlayınız."
      ],
      "metadata": {
        "id": "oSmyg_y7ANl7"
      }
    },
    {
      "cell_type": "code",
      "source": [
        "# Çözümü bu hücreye yapınız.\n"
      ],
      "metadata": {
        "id": "sykrpv12ALqO"
      },
      "execution_count": 8,
      "outputs": []
    },
    {
      "cell_type": "markdown",
      "source": [
        "## Soru 3 (25 puan)\n",
        "\n",
        "Bir e-ticaret sitesindeki ürünlerin fiyatlarını içeren bir liste aşağıda verilmiştir. Bu listeden fiyatı 100 TL'nin üzerinde olan ürünleri bulup, yeni bir listeye ekleyen ve bu yeni listedeki ürünlerin ortalama fiyatını hesaplayan bir Python programı yazınız.\n",
        "\n",
        "`urun_fiyatlari = [90, 120, 85, 150, 75, 110]`\n",
        "\n",
        "Programdan beklenen çıktı aşağıdaki gibidir:\n",
        "\n",
        "\n",
        "```\n",
        "100 TL'nin üzerindeki ürünlerin fiyatları: [120, 150, 110]\n",
        "Bu ürünlerin ortalama fiyatı: 126.67 TL\n",
        "```\n",
        "\n"
      ],
      "metadata": {
        "id": "P9plvlAiBV2s"
      }
    },
    {
      "cell_type": "code",
      "source": [
        "# Çözümü bu hücreye yapınız.\n"
      ],
      "metadata": {
        "id": "xqB-u3NLDBBt"
      },
      "execution_count": 9,
      "outputs": []
    },
    {
      "cell_type": "markdown",
      "source": [
        "## Soru 4 (25 puan)\n",
        "\n",
        "Aşağıda birinci temel ödeve ilişkin eşitlikler verilmiştir.\n",
        "\n",
        "\n",
        "\\begin{align*}\n",
        "Y_B &= Y_A + \\Delta Y = Y_A + S \\cdot \\sin{\\alpha} \\\\\n",
        "X_B &= X_A + \\Delta X = X_A + S \\cdot \\cos{\\alpha}\n",
        "\\end{align*}\n",
        "\n",
        "\n",
        "a) Bu eşitlikleri kullanarak, birinci temel ödeve ait fonksiyonu tasarlayınız. Fonksiyon A noktasının koordinatlarını, ara mesafeyi ve semt açısını kullanarak, B noktasının koordinatlarını hesaplamalıdır. Semt açısını fonksiyon içinde grad biriminden radyan birimine dönüştürmeniz gerektiğini unutmayınız.\n",
        "\n",
        "b) Aşağıda verilenlere göre $Y_B$ ve $Y_A$ değerlerini, tasarladığınız fonksiyonla hesaplayınız.\n",
        "\n",
        "$$\n",
        "X_A = 100 \\text{ metre} \\\\\n",
        "Y_A = 150 \\text{ metre} \\\\\n",
        "S = 50 \\text{ metre} \\\\\n",
        "\\alpha = 40 \\text{ grad}\n",
        "$$\n",
        "\n"
      ],
      "metadata": {
        "id": "gIBAqIEFcxUf"
      }
    },
    {
      "cell_type": "code",
      "source": [
        "# Çözümü bu hücreye yapınız."
      ],
      "metadata": {
        "id": "odMQnttgbJmv"
      },
      "execution_count": 10,
      "outputs": []
    }
  ]
}