{
  "cells": [
    {
      "cell_type": "markdown",
      "metadata": {
        "id": "t6_P_wExJBJe"
      },
      "source": [
        "<h1 align=\"center\"><b>ÜNİTE 1 - İfadeler, Değişkenler ve Operatörler</b></h1>\n",
        "\n",
        "<p align=\"center\">\n",
        "  <img src=\"https://raw.githubusercontent.com/caniban/MEU_Veri_Bilimi/main/assets/Veri%20Bilimi.png\" alt=\"https://github.com/caniban/MEU_Veri_Bilimi\">\n",
        "</p>\n",
        "\n",
        "<br>\n",
        "\n",
        "## **Giriş**\n",
        "\n",
        "Programlamada temel taşları oluşturan üç ana bileşen, ifadeler, değişkenler ve operatörlerdir. Bu üç bileşen, her programın temel yapısını oluşturur ve programcılara veri işleme ve kontrol etme yeteneği sağlar.\n",
        "\n",
        "<br>\n",
        "\n",
        "- <b>*Söz Dizimi (Syntax)*</b>, Python'da kodun doğru bir şekilde yazılmasını ve yorumlanmasını sağlayan kurallar bütünüdür. İfadenin içeriği ve operatörleri, Python'ın sözdizimine uygun olarak yazılmalıdır.\n",
        "\n",
        "\n",
        "- <b>*Değişkenler*</b>, veri saklama ve işleme için kullanılan yapı taşlarıdır. Bir değişken, bir değeri saklar ve bu değeri program içinde kullanmamıza olanak tanır. Her değişken bir ad (isim) ile tanımlanır ve bu adı kullanarak değere erişebiliriz.\n",
        "\n",
        "- <b>*Operatörler*</b>, ifadelerdeki işlemleri gerçekleştirmek için kullanılır. Matematiksel operatörler (toplama, çıkarma, çarpma, bölme), karşılaştırma operatörleri (eşitlik, büyük/küçük, vb.) ve mantıksal operatörler (ve, veya, değil) gibi farklı türde operatörler bulunur. Bu operatörler, ifadeleri daha karmaşık hale getirmemize ve programlarımızın mantığını kontrol etmemize yardımcı olur.\n",
        "\n",
        "<br>\n",
        "\n",
        "Bu üç temel bileşen, programların verileri işlemesini, koşullar ve döngüler gibi kontrol yapılarını oluşturmasını ve sonuçlar üretmesini sağlar. İfadeler, değişkenler ve operatörlerin anlaşılması, programlamada temel bir yetenek ve bilgi alanıdır ve daha karmaşık programlar oluşturmak için önemlidir.\n",
        "\n",
        "Programlama yolculuğuna başlarken, bu temel kavramları anlamak, daha sonra daha karmaşık programlama konularını öğrenmek için güçlü bir temel oluşturur. Bu yazının ardından, programlamada daha fazla derinlemesine konuları keşfetmeye başlayabilirsiniz.\n",
        "\n",
        "<br>\n",
        "\n",
        "Çalışmayı yapan kişiler: [Doç. Dr. Muzaffer Can İban](https://github.com/caniban), [Doğu İlmak](https://github.com/doguilmak)"
      ]
    },
    {
      "cell_type": "markdown",
      "source": [
        "# **İçerik**\n",
        "\n",
        "<div class=\"alert alert-block alert-info\" style=\"margin-top: 20px\">\n",
        "\n",
        "<ul>\n",
        "  <li><a href=\"\">1. Söz Dizimi (Syntax)</a></li>\n",
        "  <li><a href=\"\">2. Değişkenler</a></li>\n",
        "  <li><a href=\"\">3. Operatörler</a></li>\n",
        "  <ul>\n",
        "    <li><a href=\"\">3.1 Atama Operatörleri</a></li>\n",
        "    <li><a href=\"\">3.2 Matematiksel Operatörler</a></li>\n",
        "    <li><a href=\"\">3.3 Karşılaştırma Operatörleri</a></li>\n",
        "    <li><a href=\"\">3.4 Mantıksal Operatörler</a></li>\n",
        "  </ul>\n",
        "  <li><a href=\"\">4. İşlem Sırası</a></li>\n",
        "\n",
        "</ul>\n",
        "  "
      ],
      "metadata": {
        "id": "K-vu3Ij8A536"
      }
    },
    {
      "cell_type": "markdown",
      "metadata": {
        "id": "XzK8Mu8_JBJl"
      },
      "source": [
        "## **1. Söz Dizimi (Syntax)**"
      ]
    },
    {
      "cell_type": "markdown",
      "metadata": {
        "id": "6Qrle0ZOJBJo"
      },
      "source": [
        "**Söz dizimi (syntax)**, bir programlama dilinde yazılan kodun, bilgisayar tarafından anlaşılabilmesi için uyması gereken kuralların toplamıdır. Söz dizimi, kodun nasıl yazılması gerektiğini belirler ve dilin yapısını oluşturur."
      ]
    },
    {
      "cell_type": "code",
      "execution_count": 1,
      "metadata": {
        "colab": {
          "base_uri": "https://localhost:8080/"
        },
        "id": "9eg9q0BoJBJs",
        "outputId": "287c44fe-e899-4705-d1e3-364281acb8c2",
        "scrolled": true
      },
      "outputs": [
        {
          "output_type": "execute_result",
          "data": {
            "text/plain": [
              "10"
            ]
          },
          "metadata": {},
          "execution_count": 1
        }
      ],
      "source": [
        "8 + 2"
      ]
    },
    {
      "cell_type": "code",
      "source": [
        "10               +               2"
      ],
      "metadata": {
        "colab": {
          "base_uri": "https://localhost:8080/"
        },
        "id": "g-udfjXGMBpg",
        "outputId": "5ed8f8f4-ae23-438b-9222-b0cb6ad29f74"
      },
      "execution_count": 2,
      "outputs": [
        {
          "output_type": "execute_result",
          "data": {
            "text/plain": [
              "12"
            ]
          },
          "metadata": {},
          "execution_count": 2
        }
      ]
    },
    {
      "cell_type": "code",
      "source": [
        "a = 10\n",
        "b, c = 20, 30\n",
        "\n",
        "print('A:', a, 'B:', b, 'C:', c)"
      ],
      "metadata": {
        "colab": {
          "base_uri": "https://localhost:8080/"
        },
        "id": "y1e6KiUJP0QV",
        "outputId": "ce4d09c9-f348-402e-a28f-878c437f97ee"
      },
      "execution_count": 3,
      "outputs": [
        {
          "output_type": "stream",
          "name": "stdout",
          "text": [
            "A: 10 B: 20 C: 30\n"
          ]
        }
      ]
    },
    {
      "cell_type": "code",
      "source": [
        "a = b = c = 1\n",
        "\n",
        "print('A:', a, 'B:', b, 'C:', c)"
      ],
      "metadata": {
        "colab": {
          "base_uri": "https://localhost:8080/"
        },
        "id": "UrXNEKOGVXC8",
        "outputId": "b9bbc578-7d39-4066-f6ab-f5765a5fed0c"
      },
      "execution_count": 4,
      "outputs": [
        {
          "output_type": "stream",
          "name": "stdout",
          "text": [
            "A: 1 B: 1 C: 1\n"
          ]
        }
      ]
    },
    {
      "cell_type": "markdown",
      "source": [
        "**Kod Blokları:** Programlar genellikle kod bloklarından oluşur. Kod blokları, belirli bir amaç için gruplandırılan kod satırlarından oluşur. Söz dizimi, kodun bu bloklarının nasıl tanımlanacağını belirler. Örneğin, Python'da kod blokları girinti kullanılarak tanımlanır."
      ],
      "metadata": {
        "id": "qIlgNooyOdM0"
      }
    },
    {
      "cell_type": "code",
      "source": [
        "koşul = 70\n",
        "\n",
        "if koşul > 100:\n",
        "    # Bu kod bloğu\n",
        "    pass\n",
        "else:\n",
        "    # Başka bir kod bloğu\n",
        "    pass"
      ],
      "metadata": {
        "id": "4qL8UVTQPpAs"
      },
      "execution_count": 5,
      "outputs": []
    },
    {
      "cell_type": "markdown",
      "source": [
        "**Fonksiyon ve İşlevler:** Söz dizimi, işlevlerin nasıl tanımlanacağını ve çağrılacağını belirler."
      ],
      "metadata": {
        "id": "AxG4U5zrQRue"
      }
    },
    {
      "cell_type": "code",
      "source": [
        "def selamla():\n",
        "  print('Merhaba!')\n",
        "\n",
        "selamla()"
      ],
      "metadata": {
        "colab": {
          "base_uri": "https://localhost:8080/"
        },
        "id": "akBiFXeSMMEh",
        "outputId": "e60c901c-c1f0-41e8-aaed-24ea1627c0b9"
      },
      "execution_count": 6,
      "outputs": [
        {
          "output_type": "stream",
          "name": "stdout",
          "text": [
            "Merhaba!\n"
          ]
        }
      ]
    },
    {
      "cell_type": "markdown",
      "source": [
        "**Değişken Tanımlama:** Değişkenlerin nasıl tanımlandığı ve isimlendirildiği, söz diziminin önemli bir parçasıdır. Değişken isimleri belirli kurallara uymalıdır."
      ],
      "metadata": {
        "id": "LGqZG7sMOi0d"
      }
    },
    {
      "cell_type": "code",
      "source": [
        "sayi = 42\n",
        "isim = \"Alice\""
      ],
      "metadata": {
        "id": "GguBeicvOjrP"
      },
      "execution_count": 7,
      "outputs": []
    },
    {
      "cell_type": "markdown",
      "source": [
        "**Operatörler:** Söz dizimi, işleçlerin (operatörlerin) nasıl kullanılacağını belirler. Operatörler, matematiksel işlemlerden karşılaştırmalara kadar farklı amaçlar için kullanılır."
      ],
      "metadata": {
        "id": "aUbR9_FkPEw6"
      }
    },
    {
      "cell_type": "code",
      "source": [
        "toplam = 5 + 3"
      ],
      "metadata": {
        "id": "nl4ISWCpPGyy"
      },
      "execution_count": 8,
      "outputs": []
    },
    {
      "cell_type": "code",
      "source": [
        "x, y = 1, 1\n",
        "esit_mi = (x == y)"
      ],
      "metadata": {
        "id": "P_-pav1CPdsK"
      },
      "execution_count": 9,
      "outputs": []
    },
    {
      "cell_type": "markdown",
      "source": [
        "**Koşullar ve Döngüler:** Söz dizimi, koşullu ifadelerin (if, else) ve döngülerin (for, while) nasıl yazılacağını yönlendirir."
      ],
      "metadata": {
        "id": "X1wQnPC7QlXd"
      }
    },
    {
      "cell_type": "code",
      "source": [
        "if sayi >= 10:\n",
        "    print(\"Sayı 10'dan büyük veya eşit.\")\n",
        "else:\n",
        "    print(\"Sayı 10'dan küçük.\")"
      ],
      "metadata": {
        "colab": {
          "base_uri": "https://localhost:8080/"
        },
        "id": "-Ouxydf4QmIw",
        "outputId": "92770e00-8930-4049-cf9f-5a60874dcdb7"
      },
      "execution_count": 10,
      "outputs": [
        {
          "output_type": "stream",
          "name": "stdout",
          "text": [
            "Sayı 10'dan büyük veya eşit.\n"
          ]
        }
      ]
    },
    {
      "cell_type": "code",
      "source": [
        "i = 0\n",
        "while i < 4:\n",
        "    print(i)\n",
        "    i += 1"
      ],
      "metadata": {
        "colab": {
          "base_uri": "https://localhost:8080/"
        },
        "id": "dOi3lQEpWldT",
        "outputId": "f342ba60-96e9-460d-f217-7ae71ac7f508"
      },
      "execution_count": 11,
      "outputs": [
        {
          "output_type": "stream",
          "name": "stdout",
          "text": [
            "0\n",
            "1\n",
            "2\n",
            "3\n"
          ]
        }
      ]
    },
    {
      "cell_type": "code",
      "source": [
        "for x in \"araba\":\n",
        "    print(x)"
      ],
      "metadata": {
        "colab": {
          "base_uri": "https://localhost:8080/"
        },
        "id": "VAczCluvW9FQ",
        "outputId": "ee5912be-80af-4b0f-9ea5-a8a281df3b1f"
      },
      "execution_count": 12,
      "outputs": [
        {
          "output_type": "stream",
          "name": "stdout",
          "text": [
            "a\n",
            "r\n",
            "a\n",
            "b\n",
            "a\n"
          ]
        }
      ]
    },
    {
      "cell_type": "markdown",
      "source": [
        "**Noktalama İşaretleri ve Sözdizimi Kuralları:** Söz dizimi, kodun okunabilirliğini artırmak ve anlaşılır hale getirmek için noktalama işaretlerini ve belirli kuralları içerir."
      ],
      "metadata": {
        "id": "to9_eN1WQrQF"
      }
    },
    {
      "cell_type": "code",
      "source": [
        "if 10 > 5:\n",
        "    print(\"10, 5'ten büyük.\")"
      ],
      "metadata": {
        "colab": {
          "base_uri": "https://localhost:8080/"
        },
        "id": "pSDGbSRYQre7",
        "outputId": "6ca37f37-0fd4-428d-fc9e-aaae896895a7"
      },
      "execution_count": 14,
      "outputs": [
        {
          "output_type": "stream",
          "name": "stdout",
          "text": [
            "10, 5'ten büyük.\n"
          ]
        }
      ]
    },
    {
      "cell_type": "markdown",
      "source": [
        "Söz dizimi, her programlama dilinin kendine özgü kurallarına sahiptir ve bu kurallara uyulması gerekmektedir. Yanlış söz dizimi kullanımı, hatalara neden olabilir ve kodun düzgün çalışmamasına yol açabilir. Bu nedenle, programcılar için söz dizimini anlamak ve doğru bir şekilde uygulamak önemlidir."
      ],
      "metadata": {
        "id": "_UzS1oAuR_U_"
      }
    },
    {
      "cell_type": "markdown",
      "source": [
        "Yanlış veya kabul edilemez ifadelere örnekler:"
      ],
      "metadata": {
        "id": "mi9zbIkUMW53"
      }
    },
    {
      "cell_type": "code",
      "source": [
        "8 +\n",
        "2"
      ],
      "metadata": {
        "id": "TA19geXVMgoh"
      },
      "execution_count": null,
      "outputs": []
    },
    {
      "cell_type": "code",
      "source": [
        "def selamla():\n",
        "print('Merhaba!')\n",
        "\n",
        "selamla()"
      ],
      "metadata": {
        "id": "jjSdIuugMhI-"
      },
      "execution_count": null,
      "outputs": []
    },
    {
      "cell_type": "code",
      "source": [
        "print('Sonra, Alan Turing şu soruyu sordu: \"Can machines think?\")"
      ],
      "metadata": {
        "id": "ECHvG815Q0oJ"
      },
      "execution_count": null,
      "outputs": []
    },
    {
      "cell_type": "markdown",
      "metadata": {
        "id": "ReoOvALjJBJ7"
      },
      "source": [
        "## **2. Değişkenler**"
      ]
    },
    {
      "cell_type": "markdown",
      "metadata": {
        "id": "DPfo14zLJBJ-"
      },
      "source": [
        "Değişkenler, programın kullanabileceği her türlü veriyi kayıt altına alabilmek için adlandırdığımız bir yer tutucudur.\n",
        "Python'da bir değişkenin bir tam sayı mı yoksa ondalık sayı mı ya da başka bir tür mü olduğunu belirtmeye gerek yoktur.\n",
        "Python'da yeni bir değişken tanımlamak için, sadece belirttiğimiz bir isme bir değer atarız (C ve Java gibi dillerde, değişkenin türünün de tanımlanması gerekir. Python, buna gereksinim duymaz).\n",
        "\n",
        " - Değişken isimleri  istediğimiz sayıda harf, alt çizgi ve rakamdan oluşabilir.\n",
        " - Değişken isimleri bir rakam ile başlamamalıdır.\n",
        " - Python Anahtar Sözcükleri (keywords), değişken ismi olarak atanamaz.\n",
        " - Değişken isimleri, büyük ve küçük harf duyarlıdır. 'Bilgisayar' ve 'bilgisayar', farklı değişkenler oluşturur.\n",
        " - Birden fazla sözcükle değişken oluşturmak için, alt çizgi kullanmak kodun okunurluğunu artıracaktır.\n",
        "\n",
        "        degisken_ismi = ifade\n",
        "\n",
        "**(=) işareti, değişkene ifade atamak için kullanılan operatördür.**"
      ]
    },
    {
      "cell_type": "markdown",
      "source": [
        "**2.1 Tam Sayı Değişkeni (Integer Variables):** Tam sayıları temsil eder. Örneğin `sayı` değişkeni bir tam sayı (integer) türündedir."
      ],
      "metadata": {
        "id": "CSDHEev6Jd_x"
      }
    },
    {
      "cell_type": "code",
      "source": [
        "sayı = 100"
      ],
      "metadata": {
        "id": "-F7zdYGUSQth"
      },
      "execution_count": 15,
      "outputs": []
    },
    {
      "cell_type": "code",
      "execution_count": 17,
      "metadata": {
        "colab": {
          "base_uri": "https://localhost:8080/"
        },
        "id": "_RQqTccKJBKL",
        "outputId": "159a6ac1-ce3f-4ff4-c221-54a3e0299efe"
      },
      "outputs": [
        {
          "output_type": "stream",
          "name": "stdout",
          "text": [
            "100\n",
            "Değişken tipi:  <class 'int'>\n"
          ]
        }
      ],
      "source": [
        "print(sayı)\n",
        "print('Değişken tipi: ', type(sayı))"
      ]
    },
    {
      "cell_type": "markdown",
      "source": [
        "**2.2 Ondalık Sayı Değişkeni (Float Variables):** Ondalık sayıları (noktadan sonra kesirli sayıları) temsil eder. Örneğin `mil` değişkeni bir ondalık sayı (float) türündedir."
      ],
      "metadata": {
        "id": "U3faXa77JfnC"
      }
    },
    {
      "cell_type": "code",
      "source": [
        "mil = 1000.0"
      ],
      "metadata": {
        "id": "3e22pBARSZ4j"
      },
      "execution_count": 18,
      "outputs": []
    },
    {
      "cell_type": "code",
      "execution_count": 19,
      "metadata": {
        "colab": {
          "base_uri": "https://localhost:8080/"
        },
        "id": "Bs7Ef5xtJBKW",
        "outputId": "06ff5521-7042-4692-e28f-9fcf5eb537f9"
      },
      "outputs": [
        {
          "output_type": "stream",
          "name": "stdout",
          "text": [
            "1000.0\n",
            "Değişken tipi:  <class 'float'>\n"
          ]
        }
      ],
      "source": [
        "print(mil)\n",
        "print('Değişken tipi: ', type(mil))"
      ]
    },
    {
      "cell_type": "markdown",
      "source": [
        "**2.3 Karakter Dizisi Değişkeni (String Variables):** Metin verilerini temsil eder. Tek tırnak (') veya çift tırnak (\") içinde tanımlanır. Örneğin `isim` değişkeni bir karakter dizisi (string) türündedir."
      ],
      "metadata": {
        "id": "a43EjdTbJg_T"
      }
    },
    {
      "cell_type": "code",
      "source": [
        "isim = \"Python\""
      ],
      "metadata": {
        "id": "Vo8EQoJRStmV"
      },
      "execution_count": 20,
      "outputs": []
    },
    {
      "cell_type": "code",
      "execution_count": 21,
      "metadata": {
        "colab": {
          "base_uri": "https://localhost:8080/"
        },
        "id": "k2qy-Q_8JBKg",
        "outputId": "01f2f214-60b4-48a2-f69a-a715e97c429e"
      },
      "outputs": [
        {
          "output_type": "stream",
          "name": "stdout",
          "text": [
            "Python\n",
            "Değişken tipi:  <class 'str'>\n"
          ]
        }
      ],
      "source": [
        "print(isim)\n",
        "print('Değişken tipi: ', type(isim))"
      ]
    },
    {
      "cell_type": "markdown",
      "source": [
        "**2.4 Boolean Değişkeni (Boolean Variables):** Sadece iki değere sahiptir: True (doğru) veya False (yanlış). Koşullu ifadelerde sıklıkla kullanılır. Örneğin `aktif` değişkeni bir mantıksal (boolean) türündedir."
      ],
      "metadata": {
        "id": "m3YBK7Y8Ji4y"
      }
    },
    {
      "cell_type": "code",
      "source": [
        "aktif = True"
      ],
      "metadata": {
        "id": "JapK3Q9FS7w7"
      },
      "execution_count": 22,
      "outputs": []
    },
    {
      "cell_type": "code",
      "source": [
        "print(aktif)\n",
        "print('Değişken tipi: ', type(aktif))"
      ],
      "metadata": {
        "colab": {
          "base_uri": "https://localhost:8080/"
        },
        "id": "nempsq1HGzsz",
        "outputId": "a4006449-ab7e-4146-ff5c-db4ddb4ba0aa"
      },
      "execution_count": 23,
      "outputs": [
        {
          "output_type": "stream",
          "name": "stdout",
          "text": [
            "True\n",
            "Değişken tipi:  <class 'bool'>\n"
          ]
        }
      ]
    },
    {
      "cell_type": "markdown",
      "source": [
        "**2.5 Liste Değişkeni (List Variables):** Birden çok öğeyi içeren bir koleksiyonu temsil eder. Örneğin `sayilar` ve `isimler` değişkenleri liste (list) türündedir."
      ],
      "metadata": {
        "id": "tyyiscq1TJR9"
      }
    },
    {
      "cell_type": "code",
      "source": [
        "sayilar = [1, 2, 3, 4, 5]\n",
        "isimler = [\"Alice\", \"Bob\", \"Charlie\"]"
      ],
      "metadata": {
        "id": "M8q-QX9sTLsm"
      },
      "execution_count": 24,
      "outputs": []
    },
    {
      "cell_type": "code",
      "source": [
        "print('Değişken tipi: ', type(sayilar))\n",
        "print('Değişken tipi: ', type(isimler))"
      ],
      "metadata": {
        "colab": {
          "base_uri": "https://localhost:8080/"
        },
        "id": "x6LJZwRNTe6a",
        "outputId": "8e0b0cab-a150-4ff2-b2d9-b7168a77403c"
      },
      "execution_count": 25,
      "outputs": [
        {
          "output_type": "stream",
          "name": "stdout",
          "text": [
            "Değişken tipi:  <class 'list'>\n",
            "Değişken tipi:  <class 'list'>\n"
          ]
        }
      ]
    },
    {
      "cell_type": "markdown",
      "source": [
        "**2.6 Sözlük Değişkeni (Dictionary Variables):** Anahtar-değer çiftlerini içeren bir koleksiyonu temsil eder. Her anahtar (key), bir değere (value) karşılık gelir. Örneğin `kisi` değişkeni sözlük (dict) türündedir."
      ],
      "metadata": {
        "id": "NyeKNomXTwIo"
      }
    },
    {
      "cell_type": "code",
      "source": [
        "kisi = {\"isim\": \"John\", \"yaş\": 30, \"meslek\": \"Mühendis\"}\n",
        "# kisi['isim'] ==> 'John'"
      ],
      "metadata": {
        "id": "d4r_v01ZTzCQ"
      },
      "execution_count": 26,
      "outputs": []
    },
    {
      "cell_type": "code",
      "source": [
        "print('Değişken tipi: ', type(kisi))"
      ],
      "metadata": {
        "colab": {
          "base_uri": "https://localhost:8080/"
        },
        "id": "GCgHO8wWUEFl",
        "outputId": "3174cf49-4c20-4817-9397-608638a93610"
      },
      "execution_count": 27,
      "outputs": [
        {
          "output_type": "stream",
          "name": "stdout",
          "text": [
            "Değişken tipi:  <class 'dict'>\n"
          ]
        }
      ]
    },
    {
      "cell_type": "markdown",
      "source": [
        "**2.7 Demet Değişkeni (Tuple Variables):** Değiştirilemeyen bir koleksiyonu temsil eder. Yani, bir kez oluşturulduktan sonra içeriği değiştirilemez. Örneğin `koordinat` ve `renkler` değişkenleri demet (tuple) türündedir."
      ],
      "metadata": {
        "id": "NYgJ5AOmUOb0"
      }
    },
    {
      "cell_type": "code",
      "source": [
        "koorinat = (3, 4)\n",
        "renkler = (\"kırmızı\", \"yeşil\", \"mavi\")"
      ],
      "metadata": {
        "id": "0V4uDfB_UQdA"
      },
      "execution_count": 28,
      "outputs": []
    },
    {
      "cell_type": "code",
      "source": [
        "print('Değişken tipi: ', type(koorinat))\n",
        "print('Değişken tipi: ', type(renkler))"
      ],
      "metadata": {
        "colab": {
          "base_uri": "https://localhost:8080/"
        },
        "id": "XT2AFe0YUVAQ",
        "outputId": "e16ea1e6-7e07-433e-b0b3-287d687947de"
      },
      "execution_count": 29,
      "outputs": [
        {
          "output_type": "stream",
          "name": "stdout",
          "text": [
            "Değişken tipi:  <class 'tuple'>\n",
            "Değişken tipi:  <class 'tuple'>\n"
          ]
        }
      ]
    },
    {
      "cell_type": "markdown",
      "source": [
        "**2.8 Kümeler (Set Variables):** Benzersiz öğeleri içeren bir koleksiyonu temsil eder. Örneğin `asal_sayilar` ve `harfler` değişkenleri demet (set) türündedir."
      ],
      "metadata": {
        "id": "G05Mo1BFUili"
      }
    },
    {
      "cell_type": "code",
      "source": [
        "asal_sayilar = {2, 3, 5, 7, 11, 13}\n",
        "harfler = set(\"abcdef\")"
      ],
      "metadata": {
        "id": "c749HmbfUjsr"
      },
      "execution_count": 30,
      "outputs": []
    },
    {
      "cell_type": "code",
      "source": [
        "print('Değişken tipi: ', type(asal_sayilar))\n",
        "print('Değişken tipi: ', type(harfler))"
      ],
      "metadata": {
        "colab": {
          "base_uri": "https://localhost:8080/"
        },
        "id": "9k3tdKdBUl-p",
        "outputId": "93bddc25-ca6a-40a5-881b-1a64bb086293"
      },
      "execution_count": 31,
      "outputs": [
        {
          "output_type": "stream",
          "name": "stdout",
          "text": [
            "Değişken tipi:  <class 'set'>\n",
            "Değişken tipi:  <class 'set'>\n"
          ]
        }
      ]
    },
    {
      "cell_type": "markdown",
      "source": [
        "**2.9 None Değişkeni:** Bir değeri olmayan veya boş bir değişkeni temsil eder. Örneğin `sonuc` değişkeni None türündedir."
      ],
      "metadata": {
        "id": "dnH7NUCFZRWA"
      }
    },
    {
      "cell_type": "code",
      "source": [
        "sonuc = None"
      ],
      "metadata": {
        "id": "YUo5vblpZVoh"
      },
      "execution_count": 32,
      "outputs": []
    },
    {
      "cell_type": "markdown",
      "metadata": {
        "id": "u56g9kDLJBKp"
      },
      "source": [
        "Değişkenlerin ismi girildiğinde, programımız değişkene atanan değeri sonuç olarak gösterecektir. **Bir değişkene atadığımız değeri daha sonradan da değiştirebiliriz *(Reproducibility - yeniden üretebilme)*.** Örneğin;"
      ]
    },
    {
      "cell_type": "code",
      "execution_count": 33,
      "metadata": {
        "colab": {
          "base_uri": "https://localhost:8080/"
        },
        "id": "uqT9VsdJJBKt",
        "outputId": "ee791efc-058c-48b6-f793-cd3a95c7cb5e"
      },
      "outputs": [
        {
          "output_type": "execute_result",
          "data": {
            "text/plain": [
              "100"
            ]
          },
          "metadata": {},
          "execution_count": 33
        }
      ],
      "source": [
        "yuzyil = 100\n",
        "yuzyil"
      ]
    },
    {
      "cell_type": "code",
      "execution_count": 34,
      "metadata": {
        "colab": {
          "base_uri": "https://localhost:8080/",
          "height": 35
        },
        "id": "Ox-Cdi0NJBK1",
        "outputId": "ffe90ff2-cce2-4322-8e0c-a814c2a096b1"
      },
      "outputs": [
        {
          "output_type": "execute_result",
          "data": {
            "text/plain": [
              "'yuz'"
            ],
            "application/vnd.google.colaboratory.intrinsic+json": {
              "type": "string"
            }
          },
          "metadata": {},
          "execution_count": 34
        }
      ],
      "source": [
        "yuzyil = \"yuz\"\n",
        "yuzyil"
      ]
    },
    {
      "cell_type": "markdown",
      "metadata": {
        "id": "LdnCfBanJBLU"
      },
      "source": [
        "## **3. Operatörler**"
      ]
    },
    {
      "cell_type": "markdown",
      "metadata": {
        "id": "myrbNhy9JBLW"
      },
      "source": [
        "**Operatörler**, Matematiksel ve mantıksal operatörler, Python ve diğer programlama dillerinde kullanılan özel semboller veya işaretlerdir. Bu operatörler, sayılar arasında matematiksel işlemler yapmak veya koşulları değerlendirmek için kullanılır."
      ]
    },
    {
      "cell_type": "markdown",
      "metadata": {
        "id": "ZoseugHRJBMD"
      },
      "source": [
        "### **3.1 Atama Operatörleri**\n",
        "\n",
        "Atama operatörleri, bir değişkene değer atamak veya bir değişkenin değerini güncellemek için kullanılan semboller veya işaretlerdir. Python'da en sık kullanılan atama operatörü \"=\" işaretidir."
      ]
    },
    {
      "cell_type": "markdown",
      "metadata": {
        "id": "ag4vkUU-JBMN"
      },
      "source": [
        "| Operatör     | İsmi                          |\n",
        "|--------------|-------------------------------|\n",
        "| `=`          | Atama                         |\n",
        "| `z = z + p`  | Ekleyerek atama               |\n",
        "| `z = z - p`  | Çıkararak atama               |\n",
        "| `z = z * p`  | Çarparak atama                |\n",
        "| `z = z / p`  | Bölerek atama                 |"
      ]
    },
    {
      "cell_type": "markdown",
      "source": [
        "**3.1.1 Eşittir (=):** Bu operatör, bir değişkene bir değer atamak için kullanılır."
      ],
      "metadata": {
        "id": "S-pRrwf7kG5i"
      }
    },
    {
      "cell_type": "code",
      "execution_count": 35,
      "metadata": {
        "id": "cBD3TZeFJBMF"
      },
      "outputs": [],
      "source": [
        "x = 5  # x değişkenine 5 değerini atar."
      ]
    },
    {
      "cell_type": "markdown",
      "source": [
        "**3.1.2 Toplama ve Atama (+=):** Bu operatör, bir değişkenin mevcut değerine bir değeri ekleyerek ve sonucunu tekrar aynı değişkene atayarak kullanılır."
      ],
      "metadata": {
        "id": "TYhJuEQhkQDz"
      }
    },
    {
      "cell_type": "code",
      "execution_count": 36,
      "metadata": {
        "id": "rCyasrPdJBMJ"
      },
      "outputs": [],
      "source": [
        "y = 10\n",
        "y = y + 5  # y şimdi 15 değerine sahiptir."
      ]
    },
    {
      "cell_type": "code",
      "execution_count": 37,
      "metadata": {
        "id": "X4-GTKC9JBMP"
      },
      "outputs": [],
      "source": [
        "y = 10\n",
        "y += 5  # y şimdi 15 değerine sahiptir."
      ]
    },
    {
      "cell_type": "markdown",
      "source": [
        "**3.1.3 Çıkarma ve Atama (-=):** Bu operatör, bir değişkenin mevcut değerinden bir değeri çıkartarak ve sonucunu tekrar aynı değişkene atayarak kullanılır."
      ],
      "metadata": {
        "id": "4k_Iq3DykmnC"
      }
    },
    {
      "cell_type": "code",
      "source": [
        "z = 20\n",
        "z = z - 7  # z şimdi 13 değerine sahiptir"
      ],
      "metadata": {
        "id": "ymSjvgZ7k1Um"
      },
      "execution_count": 38,
      "outputs": []
    },
    {
      "cell_type": "code",
      "execution_count": 39,
      "metadata": {
        "id": "3zRUKy86JBMT"
      },
      "outputs": [],
      "source": [
        "z = 20\n",
        "z -= 7  # z şimdi 13 değerine sahiptir"
      ]
    },
    {
      "cell_type": "markdown",
      "source": [
        "**3.1.4 Çarpma ve Atama (*=):** Bu operatör, bir değişkenin mevcut değerini bir değerle çarparak ve sonucunu tekrar aynı değişkene atayarak kullanılır."
      ],
      "metadata": {
        "id": "NOlYGNPrk-TP"
      }
    },
    {
      "cell_type": "code",
      "source": [
        "a = 3\n",
        "a = a * 4  # a şimdi 12 değerine sahiptir"
      ],
      "metadata": {
        "id": "Hk-fVdPDlG0Y"
      },
      "execution_count": 40,
      "outputs": []
    },
    {
      "cell_type": "code",
      "execution_count": 41,
      "metadata": {
        "id": "LTPDPW05JBMX"
      },
      "outputs": [],
      "source": [
        "a = 3\n",
        "a *= 4  # a şimdi 12 değerine sahiptir"
      ]
    },
    {
      "cell_type": "markdown",
      "source": [
        "**2.1.5 Bölme ve Atama (/=):** Bu operatör, bir değişkenin mevcut değerini bir değere böler ve sonucunu tekrar aynı değişkene atayarak kullanılır."
      ],
      "metadata": {
        "id": "U77c6E4Znwhy"
      }
    },
    {
      "cell_type": "code",
      "source": [
        "b = 24\n",
        "b = b / 3  # b şimdi 8.0 değerine sahiptir (ondalık sonuç)"
      ],
      "metadata": {
        "id": "Ldeuiuton0B_"
      },
      "execution_count": 42,
      "outputs": []
    },
    {
      "cell_type": "code",
      "source": [
        "b = 24\n",
        "b /= 3  # b şimdi 8.0 değerine sahiptir (ondalık sonuç)"
      ],
      "metadata": {
        "id": "uARI83M2logd"
      },
      "execution_count": 43,
      "outputs": []
    },
    {
      "cell_type": "markdown",
      "source": [
        "### **3.2 Matematiksel Operatörler**\n",
        "\n",
        "Matematiksel operatörler, sayılar arasındaki matematiksel işlemleri gerçekleştirmek için kullanılan semboller veya işaretlerdir.\n",
        "\n",
        "| Operatör     | İsmi           | Tanımı                                                 |\n",
        "|--------------|----------------|--------------------------------------------------------|\n",
        "| ``p + q``    | Toplama        | ``p`` ve ``q``'nun toplamı                             |\n",
        "| ``p - q``    | Çıkarma        | ``p`` ve ``q``'nun farkı                               |\n",
        "| ``p * q``    | Çarpma         | ``p`` ve ``q``'min çarpımı (skaler)                    |\n",
        "| ``p / q``    | Bölme Sonucu   | ``p``'nin ``q``'ya bölümü                              |\n",
        "| ``p // q``   | Bölüm          | ``p``'nin ``q``'ya bölümü (ondalıksız sonuç)           |\n",
        "| ``p % q``    | Kalan (Mod)    | ``p``'nin ``q``'ya bölümünden kalan                    |\n",
        "| ``p ** q``   | Üs Alma        | ``p`` 'nın ``q`` dereceden üssü                        |\n",
        "| ``-p``       | Ters İşaret    | ``p``'nin ters işaretlisi (negatifi)                   |"
      ],
      "metadata": {
        "id": "AbHIRF7valqG"
      }
    },
    {
      "cell_type": "markdown",
      "source": [
        "**3.2.1 Toplama (+):** İki sayıyı toplamak için kullanılır."
      ],
      "metadata": {
        "id": "rgsPTlkpa8b4"
      }
    },
    {
      "cell_type": "code",
      "execution_count": 44,
      "metadata": {
        "id": "BcI3s1j0JBLX"
      },
      "outputs": [],
      "source": [
        "x = 5 + 3  # x şimdi 8'e eşittir"
      ]
    },
    {
      "cell_type": "markdown",
      "source": [
        "**3.2.2 Çıkarma (-):** Bir sayıyı diğerinden çıkarmak için kullanılır."
      ],
      "metadata": {
        "id": "kpH28_pzbCwg"
      }
    },
    {
      "cell_type": "code",
      "execution_count": 45,
      "metadata": {
        "id": "TXCcFXDdJBLd"
      },
      "outputs": [],
      "source": [
        "y = 10 - 4  # y şimdi 6'ya eşittir"
      ]
    },
    {
      "cell_type": "markdown",
      "source": [
        "**3.2.3 Çarpma (*):**  İki sayıyı çarpmak için kullanılır."
      ],
      "metadata": {
        "id": "BxLIumfcbJoM"
      }
    },
    {
      "cell_type": "code",
      "execution_count": 46,
      "metadata": {
        "id": "ANt6P-zZJBLj"
      },
      "outputs": [],
      "source": [
        "z = 6 * 7  # z şimdi 42'ye eşittir"
      ]
    },
    {
      "cell_type": "markdown",
      "source": [
        "**3.2.4 Bölme (/):** Bir sayıyı diğerine bölmek için kullanılır. Ondalık sonuçlar üretebilir."
      ],
      "metadata": {
        "id": "9mFBxiP4bTA_"
      }
    },
    {
      "cell_type": "code",
      "execution_count": 47,
      "metadata": {
        "id": "NslgDwUDJBLo"
      },
      "outputs": [],
      "source": [
        "a = 10 / 2  # a şimdi 5"
      ]
    },
    {
      "cell_type": "markdown",
      "source": [
        "**3.2.5 Bölme, Tam Sayı (/):** Bölme işlemini gerçekleştirir, ancak sonucu tam sayıya yuvarlar."
      ],
      "metadata": {
        "id": "YRRHNSQdbhnO"
      }
    },
    {
      "cell_type": "code",
      "execution_count": 48,
      "metadata": {
        "id": "d8jBRrvAJBLu"
      },
      "outputs": [],
      "source": [
        "b = 10 // 3  # b şimdi 3'e eşittir"
      ]
    },
    {
      "cell_type": "markdown",
      "source": [
        "**3.2.6 Kalanı Bulma (%):** İki sayı arasındaki bölme işleminden kalanı verir."
      ],
      "metadata": {
        "id": "m72w2z7Lbq4B"
      }
    },
    {
      "cell_type": "code",
      "execution_count": 49,
      "metadata": {
        "id": "4MyVb8MyJBLz"
      },
      "outputs": [],
      "source": [
        "c = 10 % 3  # c şimdi 1'e eşittir (10'un 3'e bölümünden kalan)"
      ]
    },
    {
      "cell_type": "markdown",
      "source": [
        "<b>3.2.7 Üs Alma (**):</b> Bir sayının üssünü almak için kullanılır."
      ],
      "metadata": {
        "id": "2ElMiqMmbxFU"
      }
    },
    {
      "cell_type": "code",
      "execution_count": 50,
      "metadata": {
        "id": "VSfai2xeJBL5"
      },
      "outputs": [],
      "source": [
        "d = 2 ** 3  # d şimdi 8'e eşittir (2'nin 3. kuvveti)"
      ]
    },
    {
      "cell_type": "code",
      "source": [
        "e = 16.0 ** 0.5\n",
        "e"
      ],
      "metadata": {
        "colab": {
          "base_uri": "https://localhost:8080/"
        },
        "id": "G0zAO61XlNYr",
        "outputId": "18fa077c-a80b-4eac-b9b2-68bc8a7ed9b9"
      },
      "execution_count": 51,
      "outputs": [
        {
          "output_type": "execute_result",
          "data": {
            "text/plain": [
              "4.0"
            ]
          },
          "metadata": {},
          "execution_count": 51
        }
      ]
    },
    {
      "cell_type": "markdown",
      "metadata": {
        "id": "Ltphjg5KJBMo"
      },
      "source": [
        "### **3.3 Karşılaştırma Operatörleri**"
      ]
    },
    {
      "cell_type": "markdown",
      "metadata": {
        "id": "K0qzpynVJBMp"
      },
      "source": [
        "Karşılaştırma operatörleri, Python ve diğer programlama dillerinde kullanılan semboller veya işaretlerdir. Bu operatörler, iki veya daha fazla değeri karşılaştırmak ve sonucu bir mantıksal (boolean) değer olan True (doğru) veya False (yanlış) ile döndürmek için kullanılır. Karşılaştırma operatörlerinin çıktısı (output) daima bir 'Boolean' değeridir.\n",
        "\n",
        "<br>\n",
        "\n",
        "**Boolean değerleri ikili rakamlar (binary) 0 (yanlış - `False`) ve 1 (doğru - `True`) aracılığıyla mantıksal önermeleri temsil etmek için kullanılan bir cebirsel notasyon sistemidir.**\n",
        "\n",
        "\n",
        " - Karşılaştırılan değerler sadece sayı ile kısıtlı değildir. Karakter dizileri de (string) alfabetik sırasına göre karşılaştırılabilir. Yani, \"P\" karakteri, \"R\" karakterinden küçüktür. \"Ayse\" karakteri, \"Ayhan\" karakterinden büyüktür.\n",
        "\n",
        "<br>\n",
        "\n",
        "\n",
        "| Operatör     | Tanımı                                                      |\n",
        "|--------------|-------------------------------------------------------------|\n",
        "| `p == q`     | p ile q değerleri eşit midir?                               |\n",
        "| `p != q `    | p ile q değerleri eşit değil midir?                         |\n",
        "| ` p > q `    | p değeri, q değerinden büyük müdür?                         |\n",
        "| `p < q`      | p değeri, q değerinden küçük müdür?                         |\n",
        "| `p >= q`     | p değeri, q değerinden büyük müdür YA DA onunla eşit midir? |\n",
        "| `p <= q`     | p değeri, q değerinden küçük müdür YA DA onunla eşit midir? |\n",
        "| `z = z%=p`   | Bölme işleminden kalanı atama                               |"
      ]
    },
    {
      "cell_type": "markdown",
      "source": [
        "**3.3.1 Eşitlik (==):** İki değeri karşılaştırmak ve bu değerlerin birbirine eşit olup olmadığını kontrol etmek için kullanılır. Örneğin, x == y ifadesi, x ve y'nin eşit olup olmadığını kontrol eder."
      ],
      "metadata": {
        "id": "e61wngRYfQsU"
      }
    },
    {
      "cell_type": "code",
      "execution_count": 52,
      "metadata": {
        "colab": {
          "base_uri": "https://localhost:8080/"
        },
        "id": "xNOKIMAKJBMr",
        "outputId": "302870e7-231d-4a79-e0c6-0ac090a3b9b8"
      },
      "outputs": [
        {
          "output_type": "execute_result",
          "data": {
            "text/plain": [
              "False"
            ]
          },
          "metadata": {},
          "execution_count": 52
        }
      ],
      "source": [
        "p = 10\n",
        "q = 20\n",
        "\n",
        "p == q"
      ]
    },
    {
      "cell_type": "markdown",
      "source": [
        "**3.3.2 Eşit Değil (!=):** İki değeri karşılaştırmak ve bu değerlerin birbirine eşit olmadığını kontrol etmek için kullanılır."
      ],
      "metadata": {
        "id": "Z_ScVdB1fbda"
      }
    },
    {
      "cell_type": "code",
      "execution_count": 53,
      "metadata": {
        "colab": {
          "base_uri": "https://localhost:8080/"
        },
        "id": "QHdGmSNWJBMv",
        "outputId": "2cba890d-7c7c-4494-b3aa-436f69739ac2"
      },
      "outputs": [
        {
          "output_type": "execute_result",
          "data": {
            "text/plain": [
              "True"
            ]
          },
          "metadata": {},
          "execution_count": 53
        }
      ],
      "source": [
        "p != q"
      ]
    },
    {
      "cell_type": "markdown",
      "source": [
        "**3.3.3 Daha Büyük (>):** Bir değerin diğerinden daha büyük olup olmadığını kontrol etmek için kullanılır."
      ],
      "metadata": {
        "id": "9li2xhvYfhRn"
      }
    },
    {
      "cell_type": "code",
      "execution_count": 73,
      "metadata": {
        "colab": {
          "base_uri": "https://localhost:8080/"
        },
        "id": "JBLCLOzqJBMy",
        "outputId": "1a71aba8-8441-495c-cf3c-0431be880af8"
      },
      "outputs": [
        {
          "output_type": "execute_result",
          "data": {
            "text/plain": [
              "True"
            ]
          },
          "metadata": {},
          "execution_count": 73
        }
      ],
      "source": [
        "q > p"
      ]
    },
    {
      "cell_type": "markdown",
      "source": [
        "**3.3.4 Daha Küçük (<):** Bir değerin diğerinden daha küçük olup olmadığını kontrol etmek için kullanılır."
      ],
      "metadata": {
        "id": "RAXLHPyEflqR"
      }
    },
    {
      "cell_type": "code",
      "execution_count": 74,
      "metadata": {
        "colab": {
          "base_uri": "https://localhost:8080/"
        },
        "id": "SuHXTkdbJBM2",
        "outputId": "b8400e85-b25a-4eeb-9c9a-4a7d9d9ffad9"
      },
      "outputs": [
        {
          "output_type": "execute_result",
          "data": {
            "text/plain": [
              "False"
            ]
          },
          "metadata": {},
          "execution_count": 74
        }
      ],
      "source": [
        "q < p"
      ]
    },
    {
      "cell_type": "markdown",
      "source": [
        "**3.3.5 Büyük Eşit (>=):** Bir değerin diğerinden büyük veya eşit olup olmadığını kontrol etmek için kullanılır."
      ],
      "metadata": {
        "id": "NRk2HaA8fpaT"
      }
    },
    {
      "cell_type": "code",
      "source": [
        "q >= p"
      ],
      "metadata": {
        "colab": {
          "base_uri": "https://localhost:8080/"
        },
        "id": "K8R6Ft32tptw",
        "outputId": "3b6ab17e-a322-49ae-9d3e-8d6220d1d006"
      },
      "execution_count": 76,
      "outputs": [
        {
          "output_type": "execute_result",
          "data": {
            "text/plain": [
              "True"
            ]
          },
          "metadata": {},
          "execution_count": 76
        }
      ]
    },
    {
      "cell_type": "code",
      "execution_count": 77,
      "metadata": {
        "colab": {
          "base_uri": "https://localhost:8080/"
        },
        "id": "2jrr882zJBM9",
        "outputId": "6973d8e1-914b-413a-83ca-fbe3ae4e3094"
      },
      "outputs": [
        {
          "output_type": "execute_result",
          "data": {
            "text/plain": [
              "False"
            ]
          },
          "metadata": {},
          "execution_count": 77
        }
      ],
      "source": [
        "p >= q"
      ]
    },
    {
      "cell_type": "code",
      "execution_count": 78,
      "metadata": {
        "colab": {
          "base_uri": "https://localhost:8080/"
        },
        "id": "Sd68frXtJBNM",
        "outputId": "6f183304-7221-4f9f-faa5-b16e7e68e654"
      },
      "outputs": [
        {
          "output_type": "execute_result",
          "data": {
            "text/plain": [
              "True"
            ]
          },
          "metadata": {},
          "execution_count": 78
        }
      ],
      "source": [
        "string1 = \"Merhaba\"\n",
        "string2 = \"Hello\"\n",
        "\n",
        "string1 != string2"
      ]
    },
    {
      "cell_type": "markdown",
      "metadata": {
        "id": "PkdfETqaJBNQ"
      },
      "source": [
        "**DİKKAT!**\n",
        "\n",
        "Eşitlik karşılaştırması yapan `==` operatörü ile değişkene ifade atayan `=` operatörün birbiriyle karıştırılmaması gerekir.\n",
        "\n",
        " - `x==y` ifadesi ile x ve y birbiriyle eşitse `True` çıktısı elde edilir.\n",
        "\n",
        "\n",
        " - `x=y` ifadesi ile x'in değeri olarak y atanır."
      ]
    },
    {
      "cell_type": "markdown",
      "metadata": {
        "id": "s618Q7BrJBNR"
      },
      "source": [
        "### **3.4 Mantıksal Operatörler**\n",
        "\n",
        "\n",
        "Mantıksal operatörler, koşulları değerlendirmek ve mantıksal ifadeleri işlemek için kullanılan semboller veya işaretlerdir.\n",
        "\n",
        "**Mantıksal Operatörler**, girdilerin mantıksal değerlerini karşılaştırmak için kullanılır. Çıktı değer, Boolean olacaktır.\n",
        "\n",
        " - **`and` Operatörü:** İki değerin de doğru `True` olup olmadığını denetler. Yalnız iki değer de doğru ise, `True` çıktısını verir.\n",
        "\n",
        " - **`or` Operatörü:** İki değerden en az birisinin `True` olup olmadığını denetler.\n",
        "\n",
        " - **`not` Operatörü:** Girdi değerin `True` ya da `False` olma durumunu tersine çevirir."
      ]
    },
    {
      "cell_type": "markdown",
      "source": [
        "**3.4.1 VE (and):** İki koşulu kontrol etmek ve her ikisi de doğru ise sonuç doğru olur."
      ],
      "metadata": {
        "id": "b-HYber6chBn"
      }
    },
    {
      "cell_type": "code",
      "source": [
        "True and True"
      ],
      "metadata": {
        "colab": {
          "base_uri": "https://localhost:8080/"
        },
        "id": "QnlTqnpUcifc",
        "outputId": "e08554fe-2d6f-4c26-9482-b232414b1300"
      },
      "execution_count": 59,
      "outputs": [
        {
          "output_type": "execute_result",
          "data": {
            "text/plain": [
              "True"
            ]
          },
          "metadata": {},
          "execution_count": 59
        }
      ]
    },
    {
      "cell_type": "code",
      "execution_count": 60,
      "metadata": {
        "colab": {
          "base_uri": "https://localhost:8080/"
        },
        "id": "-xj6Y96gJBNi",
        "outputId": "f4b87211-7612-4b0c-feb8-e8284fd66fe1"
      },
      "outputs": [
        {
          "output_type": "execute_result",
          "data": {
            "text/plain": [
              "False"
            ]
          },
          "metadata": {},
          "execution_count": 60
        }
      ],
      "source": [
        "(10 < 0) and (10 > 2)"
      ]
    },
    {
      "cell_type": "markdown",
      "source": [
        "**3.4.2 VEYA (or):** İki koşulu kontrol etmek ve herhangi biri doğru ise sonuç doğru olur."
      ],
      "metadata": {
        "id": "QxPh5SSBctdX"
      }
    },
    {
      "cell_type": "code",
      "execution_count": 61,
      "metadata": {
        "colab": {
          "base_uri": "https://localhost:8080/"
        },
        "id": "Pt3syULNJBNS",
        "outputId": "a8a94b33-d4a0-4695-9ea5-09cd16284a36"
      },
      "outputs": [
        {
          "output_type": "execute_result",
          "data": {
            "text/plain": [
              "True"
            ]
          },
          "metadata": {},
          "execution_count": 61
        }
      ],
      "source": [
        "True or False"
      ]
    },
    {
      "cell_type": "code",
      "execution_count": 62,
      "metadata": {
        "colab": {
          "base_uri": "https://localhost:8080/"
        },
        "id": "CgtPH3lvJBNl",
        "outputId": "e613c0f0-ca9e-4c32-c4a3-4f6169590e99"
      },
      "outputs": [
        {
          "output_type": "execute_result",
          "data": {
            "text/plain": [
              "True"
            ]
          },
          "metadata": {},
          "execution_count": 62
        }
      ],
      "source": [
        "(10 < 0) or (10 > 2)"
      ]
    },
    {
      "cell_type": "markdown",
      "source": [
        "**3.4.3 DEĞİL (not):** Bir koşulu tersine çevirir, yani doğru ise yanlış, yanlış ise doğru yapar."
      ],
      "metadata": {
        "id": "sprZO4yfcz__"
      }
    },
    {
      "cell_type": "code",
      "execution_count": 63,
      "metadata": {
        "colab": {
          "base_uri": "https://localhost:8080/"
        },
        "id": "DWevodCDJBNW",
        "outputId": "30870589-ed33-480f-8727-b1b8c902742f"
      },
      "outputs": [
        {
          "output_type": "execute_result",
          "data": {
            "text/plain": [
              "False"
            ]
          },
          "metadata": {},
          "execution_count": 63
        }
      ],
      "source": [
        "not(True)"
      ]
    },
    {
      "cell_type": "code",
      "execution_count": 64,
      "metadata": {
        "colab": {
          "base_uri": "https://localhost:8080/"
        },
        "id": "U-BRnlf-JBNZ",
        "outputId": "9b880820-9583-40f8-caed-195f04dccbea"
      },
      "outputs": [
        {
          "output_type": "execute_result",
          "data": {
            "text/plain": [
              "False"
            ]
          },
          "metadata": {},
          "execution_count": 64
        }
      ],
      "source": [
        "not(True) and False"
      ]
    },
    {
      "cell_type": "code",
      "execution_count": 65,
      "metadata": {
        "colab": {
          "base_uri": "https://localhost:8080/"
        },
        "id": "Bt3Rr9pzJBNe",
        "outputId": "30efeee8-955d-48c7-9d8a-7d22d9f6d823"
      },
      "outputs": [
        {
          "output_type": "execute_result",
          "data": {
            "text/plain": [
              "True"
            ]
          },
          "metadata": {},
          "execution_count": 65
        }
      ],
      "source": [
        "not(True and False)"
      ]
    },
    {
      "cell_type": "code",
      "execution_count": 66,
      "metadata": {
        "colab": {
          "base_uri": "https://localhost:8080/"
        },
        "id": "yDYr_DR4JBNp",
        "outputId": "44af3440-a115-4842-9962-661099ae4d29"
      },
      "outputs": [
        {
          "output_type": "execute_result",
          "data": {
            "text/plain": [
              "True"
            ]
          },
          "metadata": {},
          "execution_count": 66
        }
      ],
      "source": [
        "not(10 < 0) or (10 > 2) # (10 < 0) = False, (10 > 2) = True. or üzerinden değerlendirildiği için sonuç True olacaktır."
      ]
    },
    {
      "cell_type": "code",
      "execution_count": 67,
      "metadata": {
        "colab": {
          "base_uri": "https://localhost:8080/"
        },
        "id": "5Gtm-TnIJBNt",
        "outputId": "98e0fcc4-b21e-450a-cd5f-5b493590e339"
      },
      "outputs": [
        {
          "output_type": "execute_result",
          "data": {
            "text/plain": [
              "False"
            ]
          },
          "metadata": {},
          "execution_count": 67
        }
      ],
      "source": [
        "not(10 < 0 or 10 > 2) # (10 < 0) = False, (10 > 2) = True. or üzerinden değerlendirildiği için sonuç True olacaktır. İşlem sırasında en son not() olduğu için False olacaktır."
      ]
    },
    {
      "cell_type": "code",
      "source": [
        "not (2.14 > 3.49 or ((2 != 2 and \"Can\" == \"Can\") or (True or False)))# Tam sayı, ondalıklı sayı, karakter ve boolean bir arada gösterimi."
      ],
      "metadata": {
        "colab": {
          "base_uri": "https://localhost:8080/"
        },
        "id": "zShNFpQdecs_",
        "outputId": "1168d85f-920e-464b-8458-03d7dcbc1532"
      },
      "execution_count": 68,
      "outputs": [
        {
          "output_type": "execute_result",
          "data": {
            "text/plain": [
              "False"
            ]
          },
          "metadata": {},
          "execution_count": 68
        }
      ]
    },
    {
      "cell_type": "markdown",
      "source": [
        "Bu operatörler, Python programlarınızda matematiksel hesaplamaları gerçekleştirmenize ve koşulları kontrol etmenize yardımcı olur."
      ],
      "metadata": {
        "id": "btZ14zWwc-Ev"
      }
    },
    {
      "cell_type": "markdown",
      "metadata": {
        "id": "UqX4zah9JBNz"
      },
      "source": [
        "## **4. İşlem Sırası**\n",
        "\n",
        "Bir programın veya bir ifadenin çalıştırılma sırası, Python ve diğer programlama dillerinde belirli bir mantığe göre gerçekleşir.\n",
        "\n",
        "- **Kodun Başlangıcı:** Program çalıştırıldığında, kodun başlangıcı en üstten başlar. Bu noktadan itibaren kod satırları sırayla işlenir.\n",
        "\n",
        "- **Değişkenlerin Tanımlanması:** Kod içinde kullanılacak değişkenler tanımlanır ve başlangıç değerleri atanır.\n",
        "\n",
        "- **Operatörlerin İşlenmesi:** Matematiksel işlemler, karşılaştırma operatörleri ve mantıksal operatörler gibi operatörler, belirli bir sıraya göre işlenir. Öncelik sırasına göre işlem yapılır.\n",
        "\n",
        "- **Koşullu İfadelerin Değerlendirilmesi:** if, elif, ve else gibi koşullu ifadeler, programın akışını kontrol eder. Koşulların değerlendirilmesi sırasında belirli şartlara göre farklı kod blokları çalıştırılır.\n",
        "\n",
        "- **Döngülerin İşlenmesi:** for ve while gibi döngüler, belirli bir koşul sağlandığı sürece tekrarlanır. Döngülerin içindeki kod blokları her bir döngü tekrarında çalıştırılır.\n",
        "\n",
        "- **Fonksiyonların Çağrılması:** Tanımlanan fonksiyonlar belirli koşullar veya ihtiyaçlar doğrultusunda çağrılır ve çalıştırılır.\n",
        "\n",
        "- **Programın Sonlandırılması:** Kodun sonuna gelindiğinde veya programın sonlandırılması gerektiğinde, program sonlanır ve işlem tamamlanır."
      ]
    },
    {
      "cell_type": "markdown",
      "metadata": {
        "id": "oxW2IK_JJBN0"
      },
      "source": [
        "**Matematiksel operatörlerin işlenme sırası**, operatörlerin öncelik sırasına göre belirlenir. Bu öncelik sırası, matematiksel ifadelerin doğru bir şekilde değerlendirilmesini sağlar.\n",
        "\n",
        "<br>\n",
        "\n",
        "**Python'da operatörlerin işlem sırası aşağıdaki gibidir:**\n",
        "\n",
        "1. <b>Parantez (`()`):</b> İlk önce parantez içlerindeki işlemler yapılır. Parantez içindeki işlemler her zaman diğer işlemlerden önce yapılır. Parantezler en yüksek önceliğe sahiptir. Örneğin,` (3 + 5) * 2` ifadesinde, parantez içindeki toplama işlemi önce yapılır ve sonucu 8 olur, ardından çarpma işlemi gerçekleştirilir.\n",
        "\n",
        "2. <b>Üslü sayı işlemleri (`**`):</b> Üs alma operatörü, diğer matematiksel operatörlerden daha yüksek önceliğe sahiptir. Örneğin, 2 ** 3 ifadesinde, 2'nin 3. kuvveti hesaplanır.\n",
        "\n",
        "3. <b>Çarpma, Bölme, Bölen ve Kalan Operatörleri (`*`, `/` , `//`, `%`):</b> Bir sonraki aşamada belirtlien operatörler sıraya alınır ve işlem görür.\n",
        "\n",
        "4. <b>Toplama ve Çıkarma Operatörleri (`+`, `-`):</b> Bir sonraki aşamada toplama ve çıkarma operatörleri sıraya alınır ve işlem görür.\n",
        "\n",
        "5. <b>Karşılaştırma Operatörleri (`==`, `!=`, `>`, `>=`, `<`, `<=`):</b> Bu aşamada karşılaştırma operatörleri sıraya alınır ve işlem görür.\n",
        "\n",
        "6. <b>Mantıksal Operatörler (`not`, `and` ve `or`): </b> Sırasıyla `not`, `and` ve `or` şeklinde işlem görür.\n"
      ]
    },
    {
      "cell_type": "code",
      "execution_count": 69,
      "metadata": {
        "colab": {
          "base_uri": "https://localhost:8080/"
        },
        "id": "o3ms-N20JBN0",
        "outputId": "a8cccdf9-08da-43bc-bece-701476a3b8a1"
      },
      "outputs": [
        {
          "output_type": "execute_result",
          "data": {
            "text/plain": [
              "20"
            ]
          },
          "metadata": {},
          "execution_count": 69
        }
      ],
      "source": [
        "2 + 3 * 6"
      ]
    },
    {
      "cell_type": "code",
      "execution_count": 70,
      "metadata": {
        "colab": {
          "base_uri": "https://localhost:8080/"
        },
        "id": "sigcRpuEJBN4",
        "outputId": "d9fee6de-a06e-4bc1-ed2b-3ce71624cb7c"
      },
      "outputs": [
        {
          "output_type": "execute_result",
          "data": {
            "text/plain": [
              "30"
            ]
          },
          "metadata": {},
          "execution_count": 70
        }
      ],
      "source": [
        "(2 + 3) * 6"
      ]
    },
    {
      "cell_type": "code",
      "execution_count": 71,
      "metadata": {
        "colab": {
          "base_uri": "https://localhost:8080/"
        },
        "id": "61fF_uKvJBN7",
        "outputId": "9c87a75d-6439-416b-f78d-f5374a98e8dd"
      },
      "outputs": [
        {
          "output_type": "execute_result",
          "data": {
            "text/plain": [
              "12.0"
            ]
          },
          "metadata": {},
          "execution_count": 71
        }
      ],
      "source": [
        "6 * 4 / 2"
      ]
    },
    {
      "cell_type": "code",
      "execution_count": 72,
      "metadata": {
        "colab": {
          "base_uri": "https://localhost:8080/"
        },
        "id": "eWE_shJ6JBN-",
        "outputId": "853ab587-1c5a-4125-eda2-a99359cfb636"
      },
      "outputs": [
        {
          "output_type": "execute_result",
          "data": {
            "text/plain": [
              "True"
            ]
          },
          "metadata": {},
          "execution_count": 72
        }
      ],
      "source": [
        "True == (3 + 5 > 2)"
      ]
    }
  ],
  "metadata": {
    "colab": {
      "provenance": [],
      "toc_visible": true
    },
    "kernelspec": {
      "display_name": "Python 3",
      "language": "python",
      "name": "python3"
    },
    "language_info": {
      "codemirror_mode": {
        "name": "ipython",
        "version": 3
      },
      "file_extension": ".py",
      "mimetype": "text/x-python",
      "name": "python",
      "nbconvert_exporter": "python",
      "pygments_lexer": "ipython3",
      "version": "3.7.6"
    }
  },
  "nbformat": 4,
  "nbformat_minor": 0
}