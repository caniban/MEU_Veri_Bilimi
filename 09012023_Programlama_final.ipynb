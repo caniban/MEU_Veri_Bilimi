{
 "cells": [
  {
   "cell_type": "markdown",
   "id": "751a1706",
   "metadata": {},
   "source": [
    "### Soru 1 \n",
    "Aşağıda `almanya` ve `hollanda` numpy diziler verilmiştir. Bu diziler, her iki ülkenin 50 yaşını aşan nüfus oranının 1978 ve 2018 yılları arasındaki değerlerini içermektedir. \n",
    "\n",
    "Bu bilgileri kullanarak,\n",
    "Verilen tarihler arasında her iki ülkenin 50 yaşını aşan nüfus oranının zamansal değişimini aynı grafik üzerinde gösteriniz. Çizgi grafik kullanınız. Almanya grafiği için kırmızı, Hollanda grafiği için mavi renk seçiniz. X ekseni yılları içermelidir ve bu yıllar 1980, 1985... gibi 5'er 5'er atlamalıdır. Y ekseni ise 20 ila 60 arası 5'er 5'er atlamalıdır. Grafiğe uygun başlığı yazdırınız. Grafiğin hangi çizgisinin hangi ülkeye ait olduğunu gösteren lejantını da çerçevenin sol üst köşesine koyunuz. "
   ]
  },
  {
   "cell_type": "code",
   "execution_count": 1,
   "id": "5ded4174",
   "metadata": {},
   "outputs": [],
   "source": [
    "#Burayı silmeyiniz ve doğrudan çalıştırınız. \n",
    "import numpy as np\n",
    "\n",
    "almanya = np.array([25.7, 23.8, 22.4, 25.6, 26.1, 27.3, 29.9, 30.1,\n",
    "                   31.2, 31.8, 32.2, 34.9, 33.4, 35.4, 33.8, 36.2,\n",
    "                   37.3, 39.8, 40.4, 40.2, 40.3, 41.3, 44.5, 47.3,\n",
    "                   47.9, 45.2, 44.7, 46.4, 50.5, 52.5, 56.9, 56.4,\n",
    "                   55.2, 54.8, 54.2, 52.9, 51.9, 52.4, 52.5, 55.6])\n",
    "\n",
    "hollanda = np.array([24.7, 25.4, 24.3, 25.5, 27.8, 29.7, 32.3, 35.4,\n",
    "                    38.0, 40.4, 42.1, 44.4, 46.6, 47.0, 46.3, 45.3,\n",
    "                    44.2, 42.6, 40.2, 39.3, 39.2, 38.2, 38.9, 38.1,\n",
    "                    38.2, 37.8, 37.0, 36.2, 37.4, 38.8, 37.4, 37.3,\n",
    "                    37.0, 35.4, 32.5, 30.4, 28.2, 27.3, 27.4, 28.4])"
   ]
  },
  {
   "cell_type": "code",
   "execution_count": 2,
   "id": "667d08b7",
   "metadata": {},
   "outputs": [],
   "source": [
    "# Çözümü bu hücreye yapınız. \n"
   ]
  },
  {
   "cell_type": "markdown",
   "id": "032129e5",
   "metadata": {},
   "source": [
    "### Soru 2 \n",
    "Github Ünite 11'den `iris.csv` dosyasını indirip çalışma klasörünüze kaydediniz. \n",
    "Bu veri setindeki `petal length (cm)` sütununu ayıklayınız ve bu sütundaki değerlerin histogramını çizdiriniz. Histogramda 20 adet çubuk bulunsun. Histogramın x eksenine `Taç Yaprak Boy (cm)`, y eksenine ise `Frekans` ismini veriniz."
   ]
  },
  {
   "cell_type": "code",
   "execution_count": 3,
   "id": "8409684e",
   "metadata": {},
   "outputs": [],
   "source": [
    "# Çözümü bu hücreye yapınız. \n"
   ]
  },
  {
   "cell_type": "markdown",
   "id": "e9c9dfe6",
   "metadata": {},
   "source": [
    "### Soru 3\n",
    "Github Ünite 11'den `iris.csv` dosyasını indirip çalışma klasörünüze kaydediniz. \n",
    "Bu veri setindeki `sepal width (cm)` sütununun maksimum, minimum, standart sapma ve 3. çeyreklik değerlerini hesaplayıp gösteriniz. "
   ]
  },
  {
   "cell_type": "code",
   "execution_count": 4,
   "id": "7d65e036",
   "metadata": {},
   "outputs": [],
   "source": [
    "# Çözümü bu hücreye yapınız.\n"
   ]
  },
  {
   "cell_type": "markdown",
   "id": "52627d51",
   "metadata": {},
   "source": [
    "#### Sonuçları bu hücreye yazınız: \n",
    "Maksimum değer: \n",
    "\n",
    "Minimum değer: \n",
    "\n",
    "Standart sapma: \n",
    "\n",
    "Üçüncü çeyreklik: "
   ]
  },
  {
   "cell_type": "markdown",
   "id": "21f19ad5",
   "metadata": {},
   "source": [
    "### Soru 4\n",
    "Github Ünite 11'den `demo.xlsx` dosyasını indirip çalışma klasörünüze kaydediniz. \n",
    "Dosyayı anaconda ortamına veri çerçevesi olarak yükleyiniz.\n",
    "\n",
    "a) Veri seti içerisindeki `Envanter` sütununu veri çerçevesinden düşürünüz.\n",
    "\n",
    "b) Geri kalan sütunları kullanarak veri setinin korelasyon matrisine ait ısı haritasını çizdiriniz (Seaborn kütüphanesini kullanın!)\n",
    "\n",
    "c) Sütunların arasındaki korelasyonu yorumlayınız. "
   ]
  },
  {
   "cell_type": "code",
   "execution_count": 5,
   "id": "4a3b8c96",
   "metadata": {},
   "outputs": [],
   "source": [
    "# Çözümü bu hücreye yapınız.\n"
   ]
  },
  {
   "cell_type": "code",
   "execution_count": 6,
   "id": "db6ba3f4",
   "metadata": {},
   "outputs": [],
   "source": [
    "#### Korelasyon hakkında yorumu buraya yapınız: \n",
    "\n"
   ]
  },
  {
   "cell_type": "markdown",
   "id": "adb1c3b4",
   "metadata": {},
   "source": [
    "### Soru 5 \n",
    "Dikdörtgenin iki kenarını kullanarak bu dikdörtgenin alanını hesaplayan bir fonksiyon tasarımı yapınız. Bu fonksiyonu tasarlarken, kullanıcının bu dikdörtgenin enini ve boyunu argüman olarak girmesi beklenir. Eğer kullanıcı eksik argüman girerse, en uzunluğunu 2 cm, boy uzunluğunu da 3 cm olarak alan sabit (default) argümanları oluşturunuz. "
   ]
  },
  {
   "cell_type": "code",
   "execution_count": 7,
   "id": "eea8aafa",
   "metadata": {},
   "outputs": [],
   "source": [
    "# Çözümü bu hücreye yapınız.\n"
   ]
  }
 ],
 "metadata": {
  "kernelspec": {
   "display_name": "Python 3",
   "language": "python",
   "name": "python3"
  },
  "language_info": {
   "codemirror_mode": {
    "name": "ipython",
    "version": 3
   },
   "file_extension": ".py",
   "mimetype": "text/x-python",
   "name": "python",
   "nbconvert_exporter": "python",
   "pygments_lexer": "ipython3",
   "version": "3.8.8"
  }
 },
 "nbformat": 4,
 "nbformat_minor": 5
}
